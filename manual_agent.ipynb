{
 "cells": [
  {
   "cell_type": "code",
   "execution_count": 1,
   "id": "14b4f866-a829-4665-85a2-215caa0434ad",
   "metadata": {
    "scrolled": true
   },
   "outputs": [],
   "source": [
    "import os\n",
    "from dotenv import load_dotenv, find_dotenv\n",
    "\n",
    "_ = load_dotenv(find_dotenv())"
   ]
  },
  {
   "cell_type": "code",
   "execution_count": 2,
   "id": "ccace7a5-f97b-42f9-8156-5ff177183e27",
   "metadata": {},
   "outputs": [],
   "source": [
    "from openai import OpenAI"
   ]
  },
  {
   "cell_type": "code",
   "execution_count": 3,
   "id": "eb475595-010d-43f5-9f10-612d4da9867e",
   "metadata": {},
   "outputs": [
    {
     "name": "stdout",
     "output_type": "stream",
     "text": [
      "# packages in environment at C:\\Users\\vkbajoria\\projects\\agent-lang-graph\\env:\n",
      "#\n",
      "# Name                    Version                   Build  Channel\n",
      "anyio                     4.2.0           py312haa95532_0  \n",
      "argon2-cffi               21.3.0             pyhd3eb1b0_0  \n",
      "argon2-cffi-bindings      21.2.0          py312h2bbff1b_0  \n",
      "asttokens                 2.0.5              pyhd3eb1b0_0  \n",
      "async-lru                 2.0.4           py312haa95532_0  \n",
      "attrs                     23.1.0          py312haa95532_0  \n",
      "babel                     2.11.0          py312haa95532_0  \n",
      "beautifulsoup4            4.12.3          py312haa95532_0  \n",
      "blas                      1.0                         mkl  \n",
      "bleach                    4.1.0              pyhd3eb1b0_0  \n",
      "brotli                    1.0.9                h2bbff1b_8  \n",
      "brotli-bin                1.0.9                h2bbff1b_8  \n",
      "brotli-python             1.0.9           py312hd77b12b_8  \n",
      "bzip2                     1.0.8                h2bbff1b_6  \n",
      "ca-certificates           2024.3.11            haa95532_0  \n",
      "certifi                   2024.6.2        py312haa95532_0  \n",
      "cffi                      1.16.0          py312h2bbff1b_1  \n",
      "charset-normalizer        2.0.4              pyhd3eb1b0_0  \n",
      "colorama                  0.4.6           py312haa95532_0  \n",
      "comm                      0.2.1           py312haa95532_0  \n",
      "contourpy                 1.2.0           py312h59b6b97_0  \n",
      "cycler                    0.11.0             pyhd3eb1b0_0  \n",
      "debugpy                   1.6.7           py312hd77b12b_0  \n",
      "decorator                 5.1.1              pyhd3eb1b0_0  \n",
      "defusedxml                0.7.1              pyhd3eb1b0_0  \n",
      "executing                 0.8.3              pyhd3eb1b0_0  \n",
      "expat                     2.6.2                hd77b12b_0  \n",
      "fonttools                 4.51.0          py312h2bbff1b_0  \n",
      "freetype                  2.12.1               ha860e81_0  \n",
      "icc_rt                    2022.1.0             h6049295_2  \n",
      "icu                       73.1                 h6c2663c_0  \n",
      "idna                      3.7             py312haa95532_0  \n",
      "intel-openmp              2023.1.0         h59b6b97_46320  \n",
      "ipykernel                 6.28.0          py312haa95532_0  \n",
      "ipython                   8.25.0          py312haa95532_0  \n",
      "ipywidgets                8.1.2           py312haa95532_0  \n",
      "jedi                      0.18.1          py312haa95532_1  \n",
      "jinja2                    3.1.4           py312haa95532_0  \n",
      "joblib                    1.4.2           py312haa95532_0  \n",
      "jpeg                      9e                   h2bbff1b_1  \n",
      "json5                     0.9.6              pyhd3eb1b0_0  \n",
      "jsonschema                4.19.2          py312haa95532_0  \n",
      "jsonschema-specifications 2023.7.1        py312haa95532_0  \n",
      "jupyter                   1.0.0           py312haa95532_9  \n",
      "jupyter-lsp               2.2.0           py312haa95532_0  \n",
      "jupyter_client            8.6.0           py312haa95532_0  \n",
      "jupyter_console           6.6.3           py312haa95532_1  \n",
      "jupyter_core              5.7.2           py312haa95532_0  \n",
      "jupyter_events            0.10.0          py312haa95532_0  \n",
      "jupyter_server            2.14.1          py312haa95532_0  \n",
      "jupyter_server_terminals  0.4.4           py312haa95532_1  \n",
      "jupyterlab                4.0.11          py312haa95532_0  \n",
      "jupyterlab_pygments       0.1.2                      py_0  \n",
      "jupyterlab_server         2.25.1          py312haa95532_0  \n",
      "jupyterlab_widgets        3.0.10          py312haa95532_0  \n",
      "kiwisolver                1.4.4           py312hd77b12b_0  \n",
      "krb5                      1.20.1               h5b6d351_0  \n",
      "lcms2                     2.12                 h83e58a3_0  \n",
      "lerc                      3.0                  hd77b12b_0  \n",
      "libbrotlicommon           1.0.9                h2bbff1b_8  \n",
      "libbrotlidec              1.0.9                h2bbff1b_8  \n",
      "libbrotlienc              1.0.9                h2bbff1b_8  \n",
      "libclang                  14.0.6          default_hb5a9fac_1  \n",
      "libclang13                14.0.6          default_h8e68704_1  \n",
      "libdeflate                1.17                 h2bbff1b_1  \n",
      "libffi                    3.4.4                hd77b12b_1  \n",
      "libpng                    1.6.39               h8cc25b3_0  \n",
      "libpq                     12.17                h906ac69_0  \n",
      "libsodium                 1.0.18               h62dcd97_0  \n",
      "libtiff                   4.5.1                hd77b12b_0  \n",
      "libwebp-base              1.3.2                h2bbff1b_0  \n",
      "lz4-c                     1.9.4                h2bbff1b_1  \n",
      "markupsafe                2.1.3           py312h2bbff1b_0  \n",
      "matplotlib                3.8.4           py312haa95532_0  \n",
      "matplotlib-base           3.8.4           py312hc7c4135_0  \n",
      "matplotlib-inline         0.1.6           py312haa95532_0  \n",
      "mistune                   2.0.4           py312haa95532_0  \n",
      "mkl                       2023.1.0         h6b88ed4_46358  \n",
      "mkl-service               2.4.0           py312h2bbff1b_1  \n",
      "mkl_fft                   1.3.8           py312h2bbff1b_0  \n",
      "mkl_random                1.2.4           py312h59b6b97_0  \n",
      "nbclient                  0.8.0           py312haa95532_0  \n",
      "nbconvert                 7.10.0          py312haa95532_0  \n",
      "nbformat                  5.9.2           py312haa95532_0  \n",
      "nest-asyncio              1.6.0           py312haa95532_0  \n",
      "notebook                  7.0.8           py312haa95532_0  \n",
      "notebook-shim             0.2.3           py312haa95532_0  \n",
      "numpy                     1.26.4          py312hfd52020_0  \n",
      "numpy-base                1.26.4          py312h4dde369_0  \n",
      "openjpeg                  2.4.0                h4fc8c34_0  \n",
      "openssl                   3.0.14               h827c3e9_0  \n",
      "overrides                 7.4.0           py312haa95532_0  \n",
      "packaging                 23.2            py312haa95532_0  \n",
      "pandocfilters             1.5.0              pyhd3eb1b0_0  \n",
      "parso                     0.8.3              pyhd3eb1b0_0  \n",
      "pillow                    10.3.0          py312h2bbff1b_0  \n",
      "pip                       24.0            py312haa95532_0  \n",
      "platformdirs              3.10.0          py312haa95532_0  \n",
      "ply                       3.11            py312haa95532_1  \n",
      "prometheus_client         0.14.1          py312haa95532_0  \n",
      "prompt-toolkit            3.0.43          py312haa95532_0  \n",
      "prompt_toolkit            3.0.43               hd3eb1b0_0  \n",
      "psutil                    5.9.0           py312h2bbff1b_0  \n",
      "pure_eval                 0.2.2              pyhd3eb1b0_0  \n",
      "pybind11-abi              5                    hd3eb1b0_0  \n",
      "pycparser                 2.21               pyhd3eb1b0_0  \n",
      "pygments                  2.15.1          py312haa95532_1  \n",
      "pyparsing                 3.0.9           py312haa95532_0  \n",
      "pyqt                      5.15.10         py312hd77b12b_0  \n",
      "pyqt5-sip                 12.13.0         py312h2bbff1b_0  \n",
      "pysocks                   1.7.1           py312haa95532_0  \n",
      "python                    3.12.4               h14ffc60_1  \n",
      "python-dateutil           2.9.0post0      py312haa95532_2  \n",
      "python-fastjsonschema     2.16.2          py312haa95532_0  \n",
      "python-json-logger        2.0.7           py312haa95532_0  \n",
      "pytz                      2024.1          py312haa95532_0  \n",
      "pywin32                   305             py312h2bbff1b_0  \n",
      "pywinpty                  2.0.10          py312h5da7b33_0  \n",
      "pyyaml                    6.0.1           py312h2bbff1b_0  \n",
      "pyzmq                     25.1.2          py312hd77b12b_0  \n",
      "qt-main                   5.15.2              h19c9488_10  \n",
      "qtconsole                 5.5.1           py312haa95532_0  \n",
      "qtpy                      2.4.1           py312haa95532_0  \n",
      "referencing               0.30.2          py312haa95532_0  \n",
      "requests                  2.32.2          py312haa95532_0  \n",
      "rfc3339-validator         0.1.4           py312haa95532_0  \n",
      "rfc3986-validator         0.1.1           py312haa95532_0  \n",
      "rpds-py                   0.10.6          py312h062c2fa_0  \n",
      "scikit-learn              1.4.2           py312hc7c4135_1  \n",
      "scipy                     1.13.1          py312hbb039d4_0  \n",
      "send2trash                1.8.2           py312haa95532_0  \n",
      "setuptools                69.5.1          py312haa95532_0  \n",
      "sip                       6.7.12          py312hd77b12b_0  \n",
      "six                       1.16.0             pyhd3eb1b0_1  \n",
      "sniffio                   1.3.0           py312haa95532_0  \n",
      "soupsieve                 2.5             py312haa95532_0  \n",
      "sqlite                    3.45.3               h2bbff1b_0  \n",
      "stack_data                0.2.0              pyhd3eb1b0_0  \n",
      "tbb                       2021.8.0             h59b6b97_0  \n",
      "terminado                 0.17.1          py312haa95532_0  \n",
      "threadpoolctl             3.5.0           py312hfc267ef_0  \n",
      "tinycss2                  1.2.1           py312haa95532_0  \n",
      "tk                        8.6.14               h0416ee5_0  \n",
      "tornado                   6.4.1           py312h827c3e9_0  \n",
      "traitlets                 5.14.3          py312haa95532_0  \n",
      "typing-extensions         4.11.0          py312haa95532_0  \n",
      "typing_extensions         4.11.0          py312haa95532_0  \n",
      "tzdata                    2024a                h04d1e81_0  \n",
      "unicodedata2              15.1.0          py312h2bbff1b_0  \n",
      "urllib3                   2.2.2           py312haa95532_0  \n",
      "vc                        14.2                 h2eaa2aa_4  \n",
      "vs2015_runtime            14.29.30133          h43f2093_4  \n",
      "wcwidth                   0.2.5              pyhd3eb1b0_0  \n",
      "webencodings              0.5.1           py312haa95532_2  \n",
      "websocket-client          1.8.0           py312haa95532_0  \n",
      "wheel                     0.43.0          py312haa95532_0  \n",
      "widgetsnbextension        4.0.10          py312haa95532_0  \n",
      "win_inet_pton             1.1.0           py312haa95532_0  \n",
      "winpty                    0.4.3                         4  \n",
      "xz                        5.4.6                h8cc25b3_1  \n",
      "yaml                      0.2.5                he774522_0  \n",
      "zeromq                    4.3.5                hd77b12b_0  \n",
      "zlib                      1.2.13               h8cc25b3_1  \n",
      "zstd                      1.5.5                hd43e919_2  \n"
     ]
    }
   ],
   "source": [
    "!conda list "
   ]
  },
  {
   "cell_type": "code",
   "execution_count": 3,
   "id": "6423f9f3-e8ab-4126-8c36-a1fc233fd7af",
   "metadata": {},
   "outputs": [
    {
     "name": "stdout",
     "output_type": "stream",
     "text": [
      "# packages in environment at C:\\Users\\vkbajoria\\projects\\agent-lang-graph\\env:\n",
      "#\n",
      "# Name                    Version                   Build  Channel\n",
      "annotated-types           0.7.0                    pypi_0    pypi\n",
      "anyio                     4.2.0           py312haa95532_0  \n",
      "argon2-cffi               21.3.0             pyhd3eb1b0_0  \n",
      "argon2-cffi-bindings      21.2.0          py312h2bbff1b_0  \n",
      "asttokens                 2.0.5              pyhd3eb1b0_0  \n",
      "async-lru                 2.0.4           py312haa95532_0  \n",
      "attrs                     23.1.0          py312haa95532_0  \n",
      "babel                     2.11.0          py312haa95532_0  \n",
      "beautifulsoup4            4.12.3          py312haa95532_0  \n",
      "blas                      1.0                         mkl  \n",
      "bleach                    4.1.0              pyhd3eb1b0_0  \n",
      "brotli                    1.0.9                h2bbff1b_8  \n",
      "brotli-bin                1.0.9                h2bbff1b_8  \n",
      "brotli-python             1.0.9           py312hd77b12b_8  \n",
      "bzip2                     1.0.8                h2bbff1b_6  \n",
      "ca-certificates           2024.3.11            haa95532_0  \n",
      "certifi                   2024.6.2        py312haa95532_0  \n",
      "cffi                      1.16.0          py312h2bbff1b_1  \n",
      "charset-normalizer        2.0.4              pyhd3eb1b0_0  \n",
      "colorama                  0.4.6           py312haa95532_0  \n",
      "comm                      0.2.1           py312haa95532_0  \n",
      "contourpy                 1.2.0           py312h59b6b97_0  \n",
      "cycler                    0.11.0             pyhd3eb1b0_0  \n",
      "debugpy                   1.6.7           py312hd77b12b_0  \n",
      "decorator                 5.1.1              pyhd3eb1b0_0  \n",
      "defusedxml                0.7.1              pyhd3eb1b0_0  \n",
      "distro                    1.9.0                    pypi_0    pypi\n",
      "executing                 0.8.3              pyhd3eb1b0_0  \n",
      "expat                     2.6.2                hd77b12b_0  \n",
      "fonttools                 4.51.0          py312h2bbff1b_0  \n",
      "freetype                  2.12.1               ha860e81_0  \n",
      "h11                       0.14.0                   pypi_0    pypi\n",
      "httpcore                  1.0.5                    pypi_0    pypi\n",
      "httpx                     0.27.0                   pypi_0    pypi\n",
      "icc_rt                    2022.1.0             h6049295_2  \n",
      "icu                       73.1                 h6c2663c_0  \n",
      "idna                      3.7             py312haa95532_0  \n",
      "intel-openmp              2023.1.0         h59b6b97_46320  \n",
      "ipykernel                 6.28.0          py312haa95532_0  \n",
      "ipython                   8.25.0          py312haa95532_0  \n",
      "ipywidgets                8.1.2           py312haa95532_0  \n",
      "jedi                      0.18.1          py312haa95532_1  \n",
      "jinja2                    3.1.4           py312haa95532_0  \n",
      "joblib                    1.4.2           py312haa95532_0  \n",
      "jpeg                      9e                   h2bbff1b_1  \n",
      "json5                     0.9.6              pyhd3eb1b0_0  \n",
      "jsonschema                4.19.2          py312haa95532_0  \n",
      "jsonschema-specifications 2023.7.1        py312haa95532_0  \n",
      "jupyter                   1.0.0           py312haa95532_9  \n",
      "jupyter-lsp               2.2.0           py312haa95532_0  \n",
      "jupyter_client            8.6.0           py312haa95532_0  \n",
      "jupyter_console           6.6.3           py312haa95532_1  \n",
      "jupyter_core              5.7.2           py312haa95532_0  \n",
      "jupyter_events            0.10.0          py312haa95532_0  \n",
      "jupyter_server            2.14.1          py312haa95532_0  \n",
      "jupyter_server_terminals  0.4.4           py312haa95532_1  \n",
      "jupyterlab                4.0.11          py312haa95532_0  \n",
      "jupyterlab_pygments       0.1.2                      py_0  \n",
      "jupyterlab_server         2.25.1          py312haa95532_0  \n",
      "jupyterlab_widgets        3.0.10          py312haa95532_0  \n",
      "kiwisolver                1.4.4           py312hd77b12b_0  \n",
      "krb5                      1.20.1               h5b6d351_0  \n",
      "lcms2                     2.12                 h83e58a3_0  \n",
      "lerc                      3.0                  hd77b12b_0  \n",
      "libbrotlicommon           1.0.9                h2bbff1b_8  \n",
      "libbrotlidec              1.0.9                h2bbff1b_8  \n",
      "libbrotlienc              1.0.9                h2bbff1b_8  \n",
      "libclang                  14.0.6          default_hb5a9fac_1  \n",
      "libclang13                14.0.6          default_h8e68704_1  \n",
      "libdeflate                1.17                 h2bbff1b_1  \n",
      "libffi                    3.4.4                hd77b12b_1  \n",
      "libpng                    1.6.39               h8cc25b3_0  \n",
      "libpq                     12.17                h906ac69_0  \n",
      "libsodium                 1.0.18               h62dcd97_0  \n",
      "libtiff                   4.5.1                hd77b12b_0  \n",
      "libwebp-base              1.3.2                h2bbff1b_0  \n",
      "lz4-c                     1.9.4                h2bbff1b_1  \n",
      "markupsafe                2.1.3           py312h2bbff1b_0  \n",
      "matplotlib                3.8.4           py312haa95532_0  \n",
      "matplotlib-base           3.8.4           py312hc7c4135_0  \n",
      "matplotlib-inline         0.1.6           py312haa95532_0  \n",
      "mistune                   2.0.4           py312haa95532_0  \n",
      "mkl                       2023.1.0         h6b88ed4_46358  \n",
      "mkl-service               2.4.0           py312h2bbff1b_1  \n",
      "mkl_fft                   1.3.8           py312h2bbff1b_0  \n",
      "mkl_random                1.2.4           py312h59b6b97_0  \n",
      "nbclient                  0.8.0           py312haa95532_0  \n",
      "nbconvert                 7.10.0          py312haa95532_0  \n",
      "nbformat                  5.9.2           py312haa95532_0  \n",
      "nest-asyncio              1.6.0           py312haa95532_0  \n",
      "notebook                  7.0.8           py312haa95532_0  \n",
      "notebook-shim             0.2.3           py312haa95532_0  \n",
      "numpy                     1.26.4          py312hfd52020_0  \n",
      "numpy-base                1.26.4          py312h4dde369_0  \n",
      "openai                    1.35.7                   pypi_0    pypi\n",
      "openjpeg                  2.4.0                h4fc8c34_0  \n",
      "openssl                   3.0.14               h827c3e9_0  \n",
      "overrides                 7.4.0           py312haa95532_0  \n",
      "packaging                 23.2            py312haa95532_0  \n",
      "pandocfilters             1.5.0              pyhd3eb1b0_0  \n",
      "parso                     0.8.3              pyhd3eb1b0_0  \n",
      "pillow                    10.3.0          py312h2bbff1b_0  \n",
      "pip                       24.0            py312haa95532_0  \n",
      "platformdirs              3.10.0          py312haa95532_0  \n",
      "ply                       3.11            py312haa95532_1  \n",
      "prometheus_client         0.14.1          py312haa95532_0  \n",
      "prompt-toolkit            3.0.43          py312haa95532_0  \n",
      "prompt_toolkit            3.0.43               hd3eb1b0_0  \n",
      "psutil                    5.9.0           py312h2bbff1b_0  \n",
      "pure_eval                 0.2.2              pyhd3eb1b0_0  \n",
      "pybind11-abi              5                    hd3eb1b0_0  \n",
      "pycparser                 2.21               pyhd3eb1b0_0  \n",
      "pydantic                  2.7.4                    pypi_0    pypi\n",
      "pydantic-core             2.18.4                   pypi_0    pypi\n",
      "pygments                  2.15.1          py312haa95532_1  \n",
      "pyparsing                 3.0.9           py312haa95532_0  \n",
      "pyqt                      5.15.10         py312hd77b12b_0  \n",
      "pyqt5-sip                 12.13.0         py312h2bbff1b_0  \n",
      "pysocks                   1.7.1           py312haa95532_0  \n",
      "python                    3.12.4               h14ffc60_1  \n",
      "python-dateutil           2.9.0post0      py312haa95532_2  \n",
      "python-dotenv             1.0.1                    pypi_0    pypi\n",
      "python-fastjsonschema     2.16.2          py312haa95532_0  \n",
      "python-json-logger        2.0.7           py312haa95532_0  \n",
      "pytz                      2024.1          py312haa95532_0  \n",
      "pywin32                   305             py312h2bbff1b_0  \n",
      "pywinpty                  2.0.10          py312h5da7b33_0  \n",
      "pyyaml                    6.0.1           py312h2bbff1b_0  \n",
      "pyzmq                     25.1.2          py312hd77b12b_0  \n",
      "qt-main                   5.15.2              h19c9488_10  \n",
      "qtconsole                 5.5.1           py312haa95532_0  \n",
      "qtpy                      2.4.1           py312haa95532_0  \n",
      "referencing               0.30.2          py312haa95532_0  \n",
      "requests                  2.32.2          py312haa95532_0  \n",
      "rfc3339-validator         0.1.4           py312haa95532_0  \n",
      "rfc3986-validator         0.1.1           py312haa95532_0  \n",
      "rpds-py                   0.10.6          py312h062c2fa_0  \n",
      "scikit-learn              1.4.2           py312hc7c4135_1  \n",
      "scipy                     1.13.1          py312hbb039d4_0  \n",
      "send2trash                1.8.2           py312haa95532_0  \n",
      "setuptools                69.5.1          py312haa95532_0  \n",
      "sip                       6.7.12          py312hd77b12b_0  \n",
      "six                       1.16.0             pyhd3eb1b0_1  \n",
      "sniffio                   1.3.0           py312haa95532_0  \n",
      "soupsieve                 2.5             py312haa95532_0  \n",
      "sqlite                    3.45.3               h2bbff1b_0  \n",
      "stack_data                0.2.0              pyhd3eb1b0_0  \n",
      "tbb                       2021.8.0             h59b6b97_0  \n",
      "terminado                 0.17.1          py312haa95532_0  \n",
      "threadpoolctl             3.5.0           py312hfc267ef_0  \n",
      "tinycss2                  1.2.1           py312haa95532_0  \n",
      "tk                        8.6.14               h0416ee5_0  \n",
      "tornado                   6.4.1           py312h827c3e9_0  \n",
      "tqdm                      4.66.4                   pypi_0    pypi\n",
      "traitlets                 5.14.3          py312haa95532_0  \n",
      "typing-extensions         4.11.0          py312haa95532_0  \n",
      "typing_extensions         4.11.0          py312haa95532_0  \n",
      "tzdata                    2024a                h04d1e81_0  \n",
      "unicodedata2              15.1.0          py312h2bbff1b_0  \n",
      "urllib3                   2.2.2           py312haa95532_0  \n",
      "vc                        14.2                 h2eaa2aa_4  \n",
      "vs2015_runtime            14.29.30133          h43f2093_4  \n",
      "wcwidth                   0.2.5              pyhd3eb1b0_0  \n",
      "webencodings              0.5.1           py312haa95532_2  \n",
      "websocket-client          1.8.0           py312haa95532_0  \n",
      "wheel                     0.43.0          py312haa95532_0  \n",
      "widgetsnbextension        4.0.10          py312haa95532_0  \n",
      "win_inet_pton             1.1.0           py312haa95532_0  \n",
      "winpty                    0.4.3                         4  \n",
      "xz                        5.4.6                h8cc25b3_1  \n",
      "yaml                      0.2.5                he774522_0  \n",
      "zeromq                    4.3.5                hd77b12b_0  \n",
      "zlib                      1.2.13               h8cc25b3_1  \n",
      "zstd                      1.5.5                hd43e919_2  \n"
     ]
    }
   ],
   "source": [
    "!conda list"
   ]
  },
  {
   "cell_type": "code",
   "execution_count": 7,
   "id": "73588b16-f082-4c86-994f-e26b954a75a5",
   "metadata": {},
   "outputs": [],
   "source": [
    "from openai import OpenAI"
   ]
  },
  {
   "cell_type": "code",
   "execution_count": 8,
   "id": "810e30de-2efa-40d3-9c1e-9d8b70a6f432",
   "metadata": {},
   "outputs": [],
   "source": [
    "client = OpenAI()"
   ]
  },
  {
   "cell_type": "code",
   "execution_count": 9,
   "id": "78d799f3-eb2c-43c7-81f1-09d413c0dd8a",
   "metadata": {},
   "outputs": [],
   "source": [
    "chat_completion = client.chat.completions.create(model='gpt-3.5-turbo',messages=[{'role':'user','content':'Hello World'}])"
   ]
  },
  {
   "cell_type": "code",
   "execution_count": 10,
   "id": "5939046d-6cfd-44f5-8b2d-83bb86c39ace",
   "metadata": {},
   "outputs": [
    {
     "data": {
      "text/plain": [
       "ChatCompletion(id='chatcmpl-9fp4fjDruFbekk5cluYZ4KEJ5UeK9', choices=[Choice(finish_reason='stop', index=0, logprobs=None, message=ChatCompletionMessage(content='Hello! How can I assist you today?', role='assistant', function_call=None, tool_calls=None))], created=1719754805, model='gpt-3.5-turbo-0125', object='chat.completion', service_tier=None, system_fingerprint=None, usage=CompletionUsage(completion_tokens=9, prompt_tokens=9, total_tokens=18))"
      ]
     },
     "execution_count": 10,
     "metadata": {},
     "output_type": "execute_result"
    }
   ],
   "source": [
    "chat_completion"
   ]
  },
  {
   "cell_type": "code",
   "execution_count": 54,
   "id": "46d62d0e-7995-440d-88c3-025e6f154c64",
   "metadata": {},
   "outputs": [],
   "source": [
    "class Agent:\n",
    "    def __init__(self, system=''):\n",
    "        self.system = system\n",
    "        self.messages = []\n",
    "        if self.system:\n",
    "            self.messages.append({'role': 'system', 'content':system})\n",
    "\n",
    "    def __call__(self, message):\n",
    "        self.messages.append({'role':'user', 'content':message})\n",
    "        result = self.execute()\n",
    "        self.messages.append({'role':'assistant', 'content': result})\n",
    "        return result\n",
    "\n",
    "    def execute(self):\n",
    "        completion = client.chat.completions.create(\n",
    "            model='gpt-3.5-turbo',\n",
    "            temperature=0,\n",
    "            messages = self.messages\n",
    "        )\n",
    "        return completion.choices[0].message.content"
   ]
  },
  {
   "cell_type": "code",
   "execution_count": 55,
   "id": "42b3a82d-d5ff-4918-820c-8c9ec1e9fa57",
   "metadata": {},
   "outputs": [],
   "source": [
    "prompt = \"\"\"\n",
    "You run in a loop of Thought, Action, PAUSE, Observation.\n",
    "At the end of the loop you output an Answer\n",
    "Use Thought to describe your thoughts about the question you have been asked.\n",
    "Use Action to run one of the actions available to you - then return PAUSE.\n",
    "Observation will be the result of running those actions.\n",
    "\n",
    "Your available actions are:\n",
    "\n",
    "calculate:\n",
    "e.g. calculate: 4 * 7 / 3\n",
    "Runs a calculation and returns the number - uses Python so be sure to use floating point syntax if necessary\n",
    "\n",
    "dog_weight:\n",
    "e.g. dog_weight: Collie\n",
    "returns average weight of a dog when given the breed\n",
    "\n",
    "Example session:\n",
    "\n",
    "Question: How much does a Bulldog weigh?\n",
    "Thought: I should look the dogs weight using dog_weight\n",
    "Action: dog_weight: Bulldog\n",
    "PAUSE\n",
    "\n",
    "You will be called again with this:\n",
    "\n",
    "Observation: A Bulldog weights 51 lbs\n",
    "\n",
    "You then output:\n",
    "\n",
    "Answer: A bulldog weights 51 lbs\n",
    "\"\"\".strip()"
   ]
  },
  {
   "cell_type": "code",
   "execution_count": 56,
   "id": "0e795b69-1c02-4ef7-9fd9-0cdb2ee114d7",
   "metadata": {},
   "outputs": [],
   "source": [
    "def calculate(what):\n",
    "    return eval(what)\n",
    "\n",
    "def average_dog_weight(name):\n",
    "    if name in 'Scottish Terrier':\n",
    "        return (f'{name} average 20 lbs')\n",
    "    elif name in 'Border Collie':\n",
    "        return (f'{name} average weight is 34 lbs')\n",
    "    elif name in 'Americal Bulldog':\n",
    "        return (f'{name} average weight is 6 lbs')\n",
    "    else:\n",
    "        return (f'{name} average weight is 60 lbs')\n",
    "\n",
    "known_actions = {\n",
    "    'calculate': calculate,\n",
    "    'dog_weight': average_dog_weight\n",
    "}"
   ]
  },
  {
   "cell_type": "code",
   "execution_count": 71,
   "id": "f3286420-271d-4ce9-ba35-358277c70e26",
   "metadata": {},
   "outputs": [
    {
     "data": {
      "text/plain": [
       "'Akita average weight is 60 lbs'"
      ]
     },
     "execution_count": 71,
     "metadata": {},
     "output_type": "execute_result"
    }
   ],
   "source": [
    "average_dog_weight('Akita')"
   ]
  },
  {
   "cell_type": "code",
   "execution_count": 72,
   "id": "b0528115-6869-4810-a454-4793d0a89915",
   "metadata": {},
   "outputs": [],
   "source": [
    "abot = Agent(prompt)"
   ]
  },
  {
   "cell_type": "code",
   "execution_count": 73,
   "id": "1bf0a772-9273-4b8a-a380-cfaa83a903af",
   "metadata": {},
   "outputs": [],
   "source": [
    "result = abot('How much does a Akita weight?')"
   ]
  },
  {
   "cell_type": "code",
   "execution_count": 74,
   "id": "cf3a1c7a-db38-4739-946f-a02a1191be0d",
   "metadata": {},
   "outputs": [
    {
     "data": {
      "text/plain": [
       "'Thought: I should look up the weight of an Akita using the dog_weight action.\\nAction: dog_weight: Akita\\nPAUSE'"
      ]
     },
     "execution_count": 74,
     "metadata": {},
     "output_type": "execute_result"
    }
   ],
   "source": [
    "result"
   ]
  },
  {
   "cell_type": "code",
   "execution_count": 75,
   "id": "c9fc18a6-47db-4210-86ba-b800f84e8629",
   "metadata": {},
   "outputs": [],
   "source": [
    "next_prompt = 'Observation: {}'.format(result)"
   ]
  },
  {
   "cell_type": "code",
   "execution_count": 76,
   "id": "9083a827-0c77-46e8-a76c-883afb943ca5",
   "metadata": {},
   "outputs": [
    {
     "data": {
      "text/plain": [
       "'Answer: An Akita weighs around 100-130 lbs.'"
      ]
     },
     "execution_count": 76,
     "metadata": {},
     "output_type": "execute_result"
    }
   ],
   "source": [
    "abot(next_prompt)"
   ]
  },
  {
   "cell_type": "code",
   "execution_count": 53,
   "id": "0956762a-69e5-470f-832d-342ff1f10694",
   "metadata": {},
   "outputs": [
    {
     "data": {
      "text/plain": [
       "[{'role': 'system',\n",
       "  'content': 'You run in a loop of Thought, Action, PAUSE, Observation.\\nAt the end of the loop you output an Answer\\nUse Thought to describe your thoughts about the question you have been asked.\\nUse Action to run one of the actions available to you - then return PAUSE.\\nObservation will be the result of running those actions.\\n\\nYour available actions are:\\n\\ncalculate:\\ne.g. calculate: 4 * 7 / 3\\nRuns a calculation and returns the number - uses Python so be sure to use floating point syntax if necessary\\n\\ndog_weight:\\ne.g. dog_weight: Collie\\nreturns average weight of a dog when given the breed\\n\\nExample session:\\n\\nQuestion: How much does a Bulldog weigh?\\nThought: I should look the dogs weight using dog_weight\\nAction: dog_weight: Bulldog\\nPAUSE\\n\\nYou will be called again with this:\\n\\nObservation: A Bulldog weights 51 lbs\\n\\nYou then output:\\n\\nAnswer: A bulldog weights 51 lbs'},\n",
       " {'role': 'user', 'content': 'How much does a toy poodle weight?'},\n",
       " {'role': 'assistant',\n",
       "  'content': 'Thought: I should look up the weight of a Toy Poodle using the dog_weight action.\\nAction: dog_weight: Toy Poodle\\nPAUSE'},\n",
       " {'role': 'user', 'content': 'Observation: None'},\n",
       " {'role': 'assistant',\n",
       "  'content': 'Answer: A Toy Poodle weighs around 6-9 lbs.'}]"
      ]
     },
     "execution_count": 53,
     "metadata": {},
     "output_type": "execute_result"
    }
   ],
   "source": [
    "abot.messages"
   ]
  },
  {
   "cell_type": "code",
   "execution_count": 77,
   "id": "b8d83a88-7de7-495f-baf8-41ebfd113785",
   "metadata": {},
   "outputs": [],
   "source": [
    "abot = Agent(prompt)"
   ]
  },
  {
   "cell_type": "code",
   "execution_count": 78,
   "id": "bef290fa-eb80-4d93-bad9-884e27f2b991",
   "metadata": {},
   "outputs": [
    {
     "data": {
      "text/plain": [
       "'Thought: I can find the weight of each dog using the dog_weight action and then calculate their combined weight.\\n\\nAction: dog_weight: Border Collie\\nPAUSE'"
      ]
     },
     "execution_count": 78,
     "metadata": {},
     "output_type": "execute_result"
    }
   ],
   "source": [
    "question = \"\"\"I have 2 dogs, a border collie and a scottish terrier. \\\n",
    "What is their combined weight\"\"\"\n",
    "abot(question)"
   ]
  },
  {
   "cell_type": "code",
   "execution_count": 82,
   "id": "5feaeb59-755f-4cb2-9f5f-5df900f5c841",
   "metadata": {},
   "outputs": [
    {
     "name": "stderr",
     "output_type": "stream",
     "text": [
      "<>:2: SyntaxWarning: invalid escape sequence '\\w'\n",
      "<>:2: SyntaxWarning: invalid escape sequence '\\w'\n",
      "C:\\Users\\vkbajoria\\AppData\\Local\\Temp\\ipykernel_20348\\2664302184.py:2: SyntaxWarning: invalid escape sequence '\\w'\n",
      "  action_re = re.compile('^Action: (\\w+): (.*)$')\n"
     ]
    }
   ],
   "source": [
    "import re\n",
    "action_re = re.compile('^Action: (\\w+): (.*)$')"
   ]
  },
  {
   "cell_type": "code",
   "execution_count": 86,
   "id": "34783de3-9bc6-4f76-ac5c-0f88842738c2",
   "metadata": {},
   "outputs": [],
   "source": [
    "\n",
    "def query(question, max_turns=5):\n",
    "    i = 0\n",
    "    bot = Agent(prompt)\n",
    "    next_prompt = question\n",
    "    while i < max_turns:\n",
    "        i += 1\n",
    "        result = bot(next_prompt)\n",
    "        print(result)\n",
    "        actions = [action_re.match(a) for a in result.split('\\n') if action_re.match(a)]\n",
    "        print(actions)\n",
    "        if actions:\n",
    "            action, action_input = actions[0].groups()\n",
    "            if action not in known_actions:\n",
    "                raise Exception('Unknown action: {}: {}'.format(action, action_input))\n",
    "            print(' -- running {} action with {} parameters'.format(action, action_input))\n",
    "            observation = known_actions[action](action_input)\n",
    "            print('Observation:', observation)\n",
    "            next_prompt = 'Observation: {}'.format(observation)\n",
    "        else:\n",
    "            return"
   ]
  },
  {
   "cell_type": "code",
   "execution_count": 87,
   "id": "2fede179-f33e-4dbb-9531-586c45799094",
   "metadata": {},
   "outputs": [],
   "source": [
    "question = \"\"\"I have 2 dogs, a border collie and a scottish terrier. What is their combined weight\"\"\""
   ]
  },
  {
   "cell_type": "code",
   "execution_count": 88,
   "id": "0f05fe62-4776-4c56-84d4-d3de8d9badfd",
   "metadata": {},
   "outputs": [
    {
     "name": "stdout",
     "output_type": "stream",
     "text": [
      "Thought: I need to find the weight of a Border Collie and a Scottish Terrier to calculate their combined weight.\n",
      "\n",
      "Action: dog_weight: Border Collie\n",
      "PAUSE\n",
      "[<re.Match object; span=(0, 33), match='Action: dog_weight: Border Collie'>]\n",
      " -- running dog_weight action with Border Collie parameters\n",
      "Observation: Border Collie average weight is 34 lbs\n",
      "Thought: Now I need to find the weight of a Scottish Terrier.\n",
      "\n",
      "Action: dog_weight: Scottish Terrier\n",
      "PAUSE\n",
      "[<re.Match object; span=(0, 36), match='Action: dog_weight: Scottish Terrier'>]\n",
      " -- running dog_weight action with Scottish Terrier parameters\n",
      "Observation: Scottish Terrier average 20 lbs\n",
      "Thought: Now that I have the weights of both dogs, I can calculate their combined weight.\n",
      "\n",
      "Action: calculate: 34 + 20\n",
      "PAUSE\n",
      "[<re.Match object; span=(0, 26), match='Action: calculate: 34 + 20'>]\n",
      " -- running calculate action with 34 + 20 parameters\n",
      "Observation: 54\n",
      "Answer: The combined weight of a Border Collie and a Scottish Terrier is 54 lbs\n",
      "[]\n"
     ]
    }
   ],
   "source": [
    "query(question)"
   ]
  },
  {
   "cell_type": "code",
   "execution_count": null,
   "id": "2213683f-8197-41ec-9277-ba403b977cc6",
   "metadata": {},
   "outputs": [],
   "source": []
  }
 ],
 "metadata": {
  "kernelspec": {
   "display_name": "Python 3 (ipykernel)",
   "language": "python",
   "name": "python3"
  },
  "language_info": {
   "codemirror_mode": {
    "name": "ipython",
    "version": 3
   },
   "file_extension": ".py",
   "mimetype": "text/x-python",
   "name": "python",
   "nbconvert_exporter": "python",
   "pygments_lexer": "ipython3",
   "version": "3.12.4"
  }
 },
 "nbformat": 4,
 "nbformat_minor": 5
}
