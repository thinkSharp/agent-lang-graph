{
 "cells": [
  {
   "cell_type": "code",
   "execution_count": 129,
   "id": "446a5a88-d069-4a90-a60c-70ae9ec572b5",
   "metadata": {},
   "outputs": [],
   "source": [
    "import os\n",
    "from dotenv import load_dotenv\n",
    "_ = load_dotenv(dotenv_path='../.env/.env')\n",
    "tavily_api_key = str(os.getenv('TAVILY_API_KEY'))\n",
    "openai_api_key = str(os.getenv('OPENAI_API_KEY'))\n"
   ]
  },
  {
   "cell_type": "code",
   "execution_count": 130,
   "id": "8af4ed2e-194e-4667-8132-082f710a8c1e",
   "metadata": {},
   "outputs": [],
   "source": [
    "from langgraph.graph import StateGraph, END\n",
    "from typing import TypedDict, Annotated, List\n",
    "from langgraph.checkpoint.sqlite import SqliteSaver\n",
    "from langchain_core.messages import AnyMessage, SystemMessage, HumanMessage, AIMessage, ChatMessage\n",
    "\n",
    "memory = SqliteSaver.from_conn_string(':memory:')"
   ]
  },
  {
   "cell_type": "code",
   "execution_count": 131,
   "id": "1d52a866-4984-479e-9f09-4bf680799822",
   "metadata": {},
   "outputs": [],
   "source": [
    "class AgentState(TypedDict):\n",
    "    task: str\n",
    "    plan: str\n",
    "    draft: str\n",
    "    critique: str\n",
    "    content: List[str]\n",
    "    revision_number: int\n",
    "    max_revisions: int"
   ]
  },
  {
   "cell_type": "code",
   "execution_count": 132,
   "id": "c2752716-7dbf-4666-bc84-3f6cc7ff4138",
   "metadata": {},
   "outputs": [],
   "source": [
    "from langchain_openai import ChatOpenAI\n",
    "model = ChatOpenAI(model='gpt-3.5-turbo', temperature=0, openai_api_key=openai_api_key)"
   ]
  },
  {
   "cell_type": "code",
   "execution_count": 133,
   "id": "acfce239-3116-4528-9fcd-ee403b67d179",
   "metadata": {},
   "outputs": [],
   "source": [
    "PLAN_PROMPT = \"\"\"You are an expert writer tasked with writing a high level outline of an essay. \\\n",
    "Write such an outline for the user provided topic. Give an outline of the essay along with any relevant notes \\\n",
    "or instructions for the sections.\"\"\""
   ]
  },
  {
   "cell_type": "code",
   "execution_count": 134,
   "id": "3270a7a3-91dc-45b1-92f9-8754362ba11f",
   "metadata": {},
   "outputs": [],
   "source": [
    "WRITER_PROMPT = \"\"\"You are an essay assistant tasked with writing excellent 3-paragraph essays.\\\n",
    "Generate the best essay possible for the user's request and the initial outline. \\\n",
    "If the user provides critique, respond with a revised version of your previous attempts. \\\n",
    "Utilize all the information below as needed: \n",
    "\n",
    "------\n",
    "\n",
    "{content}\"\"\""
   ]
  },
  {
   "cell_type": "code",
   "execution_count": 135,
   "id": "faeb1f20-fde0-45e9-b994-00d65db92613",
   "metadata": {},
   "outputs": [],
   "source": [
    "REFLECTION_PROMPT = \"\"\"You are a teacher grading an essay submission. \\\n",
    "Generate critique and recommendations for the user's submission. \\\n",
    "Provide detailed recommendations, including requests for length, depth, style, etc.\"\"\""
   ]
  },
  {
   "cell_type": "code",
   "execution_count": 136,
   "id": "25ca143e-0f1e-4e6d-aa55-ecd9f23c2441",
   "metadata": {},
   "outputs": [],
   "source": [
    "RESEARCH_PLAN_PROMPT = \"\"\"You are a researcher charged with providing information that can \\\n",
    "be used when writing the following essay. Generate a list of search queries that will gather \\\n",
    "any relevant information. Only generate 3 queries max.\"\"\""
   ]
  },
  {
   "cell_type": "code",
   "execution_count": 137,
   "id": "6ecc469e-b1a3-4b53-9780-df287c8527ac",
   "metadata": {},
   "outputs": [],
   "source": [
    "RESEARCH_CRITIQUE_PROMPT = \"\"\"You are a researcher charged with providing information that can \\\n",
    "be used when making any requested revisions (as outlined below). \\\n",
    "Generate a list of search queries that will gather any relevant information. Only generate 3 queries max.\"\"\"\n"
   ]
  },
  {
   "cell_type": "code",
   "execution_count": 138,
   "id": "8508b5e4-c441-41b7-ab14-de656cc153fb",
   "metadata": {},
   "outputs": [],
   "source": [
    "from langchain_core.pydantic_v1 import BaseModel\n",
    "\n",
    "class Queries(BaseModel):\n",
    "    queries: List[str]"
   ]
  },
  {
   "cell_type": "code",
   "execution_count": 139,
   "id": "e3f0c28e-4e02-4672-bb7e-79c8191d188e",
   "metadata": {},
   "outputs": [],
   "source": [
    "from tavily import TavilyClient\n",
    "tavily = TavilyClient(api_key=tavily_api_key)"
   ]
  },
  {
   "cell_type": "code",
   "execution_count": 140,
   "id": "90362111-d81d-402c-a475-681138c4ad38",
   "metadata": {},
   "outputs": [],
   "source": [
    "def plan_node(state:AgentState):\n",
    "    messages =[\n",
    "        SystemMessage(content=PLAN_PROMPT),\n",
    "        HumanMessage(content=state['task'])\n",
    "    ]\n",
    "    response = model.invoke(messages)\n",
    "    return {'plan': response.content}"
   ]
  },
  {
   "cell_type": "code",
   "execution_count": 159,
   "id": "b30adcd8-d2ef-47c3-bab6-bda65ac1639f",
   "metadata": {},
   "outputs": [],
   "source": [
    "def research_plan_node(state: AgentState):\n",
    "    queries = model.with_structured_output(Queries).invoke([\n",
    "        SystemMessage(content=RESEARCH_PLAN_PROMPT),\n",
    "        HumanMessage(content=state['task'])\n",
    "    ])\n",
    "    content = state['content'] or []\n",
    "    for q in queries.queries:\n",
    "        response = tavily.search(query=q, max_results=2)\n",
    "        for r in response['results']:\n",
    "            content.append(r['content'])\n",
    "    return {'content': content}"
   ]
  },
  {
   "cell_type": "code",
   "execution_count": 160,
   "id": "25e5e460-c72b-4722-8283-1f770678dcfd",
   "metadata": {},
   "outputs": [],
   "source": [
    "def generation_node(state: AgentState):\n",
    "    content = '\\n\\n'.join(state['content'] or [])\n",
    "    user_message = HumanMessage(content=f'{state['task']}\\n\\nHear is my plan:\\n\\n{state['plan']}')\n",
    "    messages = [\n",
    "        SystemMessage(content=WRITER_PROMPT.format(content=content)),\n",
    "        user_message\n",
    "    ]\n",
    "    response = model.invoke(messages)\n",
    "    return {\n",
    "        'draft': response.content,\n",
    "        'revision_number': state.get('revision_number',1) + 1\n",
    "    }"
   ]
  },
  {
   "cell_type": "code",
   "execution_count": 161,
   "id": "cd3e7bf3-5a86-4e51-89c8-dd251ecb5220",
   "metadata": {},
   "outputs": [],
   "source": [
    "def reflection_node(state: AgentState):\n",
    "    messages = [\n",
    "        SystemMessage(content=REFLECTION_PROMPT),\n",
    "        HumanMessage(content=state['draft'])\n",
    "    ]\n",
    "    response = model.invoke(messages)\n",
    "    return {'critique': response.content}"
   ]
  },
  {
   "cell_type": "code",
   "execution_count": 162,
   "id": "b6387db3-33cc-4a31-bbce-bdc3b27b1de2",
   "metadata": {},
   "outputs": [],
   "source": [
    "def research_critique_node(state: AgentState):\n",
    "    queries = model.with_structured_output(Queries).invoke([\n",
    "        SystemMessage(content=RESEARCH_CRITIQUE_PROMPT),\n",
    "        HumanMessage(content=state['critique'])\n",
    "    ])\n",
    "    content = state['content'] or []\n",
    "    for q in queries.queries:\n",
    "        response = tavily.search(query=q, max_results=2)\n",
    "        for r in response['results']:\n",
    "            content.append(r['content'])\n",
    "    return {'content': content}"
   ]
  },
  {
   "cell_type": "code",
   "execution_count": 172,
   "id": "e885d8c4-5681-49b0-8689-79328507c44c",
   "metadata": {},
   "outputs": [],
   "source": [
    "def should_continue(state):\n",
    "    if state['revision_number'] > state['max_revisions']:\n",
    "        return END\n",
    "    return 'reflect'"
   ]
  },
  {
   "cell_type": "code",
   "execution_count": 173,
   "id": "06dd55c7-e136-482b-b18b-41658892bd58",
   "metadata": {},
   "outputs": [],
   "source": [
    "builder = StateGraph(AgentState)"
   ]
  },
  {
   "cell_type": "code",
   "execution_count": 174,
   "id": "0a3e0ac2-ee27-453d-8582-1c14b121a627",
   "metadata": {},
   "outputs": [],
   "source": [
    "builder.add_node('planner', plan_node)\n",
    "builder.add_node('generate', generation_node)\n",
    "builder.add_node('reflect', reflection_node)\n",
    "builder.add_node('research_plan', research_plan_node)\n",
    "builder.add_node('research_critique', research_critique_node)"
   ]
  },
  {
   "cell_type": "code",
   "execution_count": 175,
   "id": "c338e788-f7cd-49be-bbe0-cb26ec08d0ad",
   "metadata": {},
   "outputs": [],
   "source": [
    "builder.set_entry_point('planner')"
   ]
  },
  {
   "cell_type": "code",
   "execution_count": 176,
   "id": "6dd8f04f-6f2e-417b-9d63-4be8b9f8e5fa",
   "metadata": {},
   "outputs": [],
   "source": [
    "builder.add_conditional_edges(\n",
    "    'generate', should_continue, {END: END, 'reflect': 'reflect'}\n",
    ")"
   ]
  },
  {
   "cell_type": "code",
   "execution_count": 177,
   "id": "7e767c77-c44f-44c6-add5-7f4612655c9a",
   "metadata": {},
   "outputs": [],
   "source": [
    "builder.add_edge('planner', 'research_plan')\n",
    "builder.add_edge('research_plan', 'generate')\n",
    "builder.add_edge('reflect', 'research_critique')\n",
    "builder.add_edge('research_critique', 'generate')"
   ]
  },
  {
   "cell_type": "code",
   "execution_count": 178,
   "id": "f909b473-e507-4281-a1ee-231664ef8174",
   "metadata": {},
   "outputs": [],
   "source": [
    "graph = builder.compile(checkpointer=memory)"
   ]
  },
  {
   "cell_type": "code",
   "execution_count": 179,
   "id": "a7d258d6-329e-4364-af40-2ef2c769d828",
   "metadata": {},
   "outputs": [
    {
     "data": {
      "image/png": "[encoded data removed]",
      "text/plain": [
       "<IPython.core.display.Image object>"
      ]
     },
     "execution_count": 179,
     "metadata": {},
     "output_type": "execute_result"
    }
   ],
   "source": [
    "from IPython.display import Image\n",
    "Image(graph.get_graph().draw_png())"
   ]
  },
  {
   "cell_type": "code",
   "execution_count": null,
   "id": "5a43898a-6cf5-41e2-aef7-0c9de0f16e7d",
   "metadata": {},
   "outputs": [
    {
     "name": "stdout",
     "output_type": "stream",
     "text": [
      "{'planner': {'plan': 'I. Introduction\\n    A. Brief overview of Langchain and Langsmith\\n    B. Thesis statement: Exploring the differences between Langchain and Langsmith\\n\\nII. Langchain\\n    A. Definition and purpose\\n    B. Key features and functionalities\\n    C. Use cases and applications\\n    D. Advantages and limitations\\n\\nIII. Langsmith\\n    A. Definition and purpose\\n    B. Key features and functionalities\\n    C. Use cases and applications\\n    D. Advantages and limitations\\n\\nIV. Comparison between Langchain and Langsmith\\n    A. Technology stack and architecture\\n    B. Scalability and performance\\n    C. Security and privacy considerations\\n    D. Community and adoption\\n\\nV. Conclusion\\n    A. Recap of the main differences between Langchain and Langsmith\\n    B. Implications for the future of language technology\\n    C. Final thoughts and recommendations\\n\\nNotes:\\n- Ensure to provide clear definitions and examples for both Langchain and Langsmith.\\n- Compare and contrast the two technologies in terms of features, use cases, advantages, and limitations.\\n- Use relevant sources and examples to support the points made in the essay.\\n- Conclude with a summary of the key findings and their significance in the field of language technology.'}}\n",
      "{'research_plan': {'content': ['Langchain vs Langsmith: Unpacking the AI Language Model Showdown\\nOverview of Langchain and Langsmith\\nLangchain is a versatile open-source framework that enables you to build applications utilizing large language models (LLM) like GPT-3. Check out our free WhatsApp channel to stay educated on LLM developments:\\nJoin the Finxter Academy and unlock access to premium courses 👑 to certify your skills in exponential technologies and programming.\\n Frequently Asked Questions\\nWhether you’re trying to figure out which tool fits your needs or you’re just getting started with language model automation, these FAQs will help shed light on the common curiosities about Langchain and LangSmith.\\n The best way to find out is to reach out to them through the LangSmith Walkthrough page or to inquire about access directly through their support channels.\\n Here’s how you might start a simple Langchain project in Python:\\nTo integrate LangSmith, you could write something like this:\\nYou’re not limited to Python, though.', \"LangSmith Cookbook: Real-world Lang Smith Examples\\nThe LangSmith Cookbook is not just a compilation of code snippets; it's a goldmine of hands-on examples designed to inspire and assist you in your projects. On This Page\\nLangSmith: Best Way to Test LLMs and AI Application\\nPublished on 12/17/2023\\nIf you're in the world of Language Learning Models (LLMs), you've probably heard of LangSmith. How to Download Feedback and Examples (opens in a new tab): Export predictions, evaluation results, and other information to add to your reports programmatically.\\n This article is your one-stop guide to understanding LangSmith, a platform that offers a plethora of features for debugging, testing, evaluating, and monitoring LLM applications.\\n How do I get access to LangSmith?\\nTo get access to LangSmith, you'll need to sign up for an account on their website.\", \"Introduction. LangChain is a framework for developing applications powered by large language models (LLMs).. LangChain simplifies every stage of the LLM application lifecycle: Development: Build your applications using LangChain's open-source building blocks, components, and third-party integrations.Use LangGraph to build stateful agents with first-class streaming and human-in-the-loop support.\", 'Top writer in AI\\nHelp\\nStatus\\nAbout\\nCareers\\nBlog\\nPrivacy\\nTerms\\nText to speech\\nTeams — A 101 overview\\nAn upcoming library for building LLM applications\\nMostafa Ibrahim\\nFollow\\nThe Techlife\\n--\\n Sign up\\nSign in\\nSign up\\nSign in\\nMember-only story\\nWhat is LangChain? How does LangChain work?\\n--\\n--\\nWritten by Mostafa Ibrahim\\nThe Techlife\\nSoftware Eng. Langchain provides a number of features that make it a valuable asset for any developer, including:\\nLLMs can be straightforward to use for simple tasks, such as text-in, text-out.', \"If you already use LangChain, you can connect to LangSmith in a few steps:\\nFor environments where process.env is not defined, initialize by explicitly passing keys:\\nIf you don't want to use LangChain in your LLM application, you can get started with LangSmith in just a few steps:\\nCongratulations! It lets you debug, test, evaluate, and monitor chains and intelligent agents built on any LLM framework and seamlessly integrates with LangChain, the go-to open source framework for building with LLMs.\\n Quick Start\\u200b\\nIf following along with code is more your thing, we've set up a Jupyter notebook at this link to help you get started with LangSmith.\\n LangChain JS Docs for the TypeScript LangChain library\\nDiscord: Join us on our Discord to discuss all things LangChain!\\n Next Steps\\u200b\\nRead the LangSmith Overview to learn more about what LangSmith has to offer.\\n\", 'LangSmith Walkthrough. LangChain makes it easy to prototype LLM applications and Agents. However, delivering LLM applications to production can be deceptively difficult. You will have to iterate on your prompts, chains, and other components to build a high-quality product. LangSmith makes it easy to debug, test, and continuously improve your ...', 'Langchain vs Langsmith: Unpacking the AI Language Model Showdown\\nOverview of Langchain and Langsmith\\nLangchain is a versatile open-source framework that enables you to build applications utilizing large language models (LLM) like GPT-3. Check out our free WhatsApp channel to stay educated on LLM developments:\\nJoin the Finxter Academy and unlock access to premium courses 👑 to certify your skills in exponential technologies and programming.\\n Frequently Asked Questions\\nWhether you’re trying to figure out which tool fits your needs or you’re just getting started with language model automation, these FAQs will help shed light on the common curiosities about Langchain and LangSmith.\\n The best way to find out is to reach out to them through the LangSmith Walkthrough page or to inquire about access directly through their support channels.\\n Here’s how you might start a simple Langchain project in Python:\\nTo integrate LangSmith, you could write something like this:\\nYou’re not limited to Python, though.', \"LangSmith Cookbook: Real-world Lang Smith Examples\\nThe LangSmith Cookbook is not just a compilation of code snippets; it's a goldmine of hands-on examples designed to inspire and assist you in your projects. On This Page\\nLangSmith: Best Way to Test LLMs and AI Application\\nPublished on 12/17/2023\\nIf you're in the world of Language Learning Models (LLMs), you've probably heard of LangSmith. How to Download Feedback and Examples (opens in a new tab): Export predictions, evaluation results, and other information to add to your reports programmatically.\\n This article is your one-stop guide to understanding LangSmith, a platform that offers a plethora of features for debugging, testing, evaluating, and monitoring LLM applications.\\n How do I get access to LangSmith?\\nTo get access to LangSmith, you'll need to sign up for an account on their website.\", \"Introduction. LangChain is a framework for developing applications powered by large language models (LLMs).. LangChain simplifies every stage of the LLM application lifecycle: Development: Build your applications using LangChain's open-source building blocks, components, and third-party integrations.Use LangGraph to build stateful agents with first-class streaming and human-in-the-loop support.\", 'Asking Multiple Questions\\nIf we’d like to ask multiple questions, we can try two approaches:\\nStarting with option (1), let’s see how to use the generate method:\\nHere we get bad results except for the first question. From here, we import the PromptTemplate class and initialize a template like so:\\nWhen using these prompt template with the given question we will get:\\nQuestion: Which NFL team won the Super Bowl in the 2010 season? Hugging Face Hub LLM\\nThe Hugging Face Hub endpoint in LangChain connects to the Hugging Face Hub and runs the models via their free inference endpoints. For Q&A, we could take a user’s question and reformat it for different Q&A styles, like conventional Q&A, a bullet list of answers, or even a summary of problems relevant to the given question.\\n Alternatively, if you’re using OpenAI via Azure, you can do:\\nWe’ll use the same simple question-answer prompt template as before with the Hugging Face example.', \"If you already use LangChain, you can connect to LangSmith in a few steps:\\nFor environments where process.env is not defined, initialize by explicitly passing keys:\\nIf you don't want to use LangChain in your LLM application, you can get started with LangSmith in just a few steps:\\nCongratulations! It lets you debug, test, evaluate, and monitor chains and intelligent agents built on any LLM framework and seamlessly integrates with LangChain, the go-to open source framework for building with LLMs.\\n Quick Start\\u200b\\nIf following along with code is more your thing, we've set up a Jupyter notebook at this link to help you get started with LangSmith.\\n LangChain JS Docs for the TypeScript LangChain library\\nDiscord: Join us on our Discord to discuss all things LangChain!\\n Next Steps\\u200b\\nRead the LangSmith Overview to learn more about what LangSmith has to offer.\\n\", \"Overview. LangSmith is a platform for LLM application development, monitoring, and testing. In this guide, we'll highlight the breadth of workflows LangSmith supports and how they fit into each stage of the application development lifecycle. We hope this will inform users how to best utilize this powerful platform or give them something to ...\"]}}\n",
      "{'generate': {'draft': \"**Langchain vs Langsmith: A Comparative Analysis**\\n\\n**I. Introduction**\\n\\nLangchain and Langsmith are two prominent platforms in the realm of AI language models. While both serve the purpose of enabling developers to work with large language models (LLMs), they differ in their approaches and functionalities. This essay aims to delve into the disparities between Langchain and Langsmith to provide a comprehensive understanding of their unique offerings.\\n\\n**II. Langchain**\\n\\nLangchain is an open-source framework designed to facilitate the development of applications powered by LLMs like GPT-3. It simplifies the entire lifecycle of LLM applications, offering features such as building blocks, components, and third-party integrations. Langchain's key strengths lie in its versatility, ease of use, and support for various programming languages. Developers can leverage LangGraph to create stateful agents with streaming capabilities and human-in-the-loop support. While Langchain excels in rapid prototyping and development, its limitations may arise in complex, large-scale projects requiring extensive customization.\\n\\n**III. Langsmith**\\n\\nIn contrast, Langsmith is a platform tailored for testing, debugging, evaluating, and monitoring LLM applications. It serves as a comprehensive tool for developers seeking to enhance the quality and performance of their language models. Langsmith offers a plethora of features, including the ability to export predictions, evaluation results, and other critical information for in-depth analysis. By providing a seamless integration with Langchain, Langsmith streamlines the process of refining and optimizing LLM applications. However, its focus on post-development stages may limit its utility for initial application development compared to Langchain.\\n\\n**IV. Comparison between Langchain and Langsmith**\\n\\nWhen comparing Langchain and Langsmith, several factors come into play. In terms of technology stack and architecture, Langchain emphasizes development tools and integrations, while Langsmith focuses on testing and monitoring functionalities. Regarding scalability and performance, Langchain's flexibility may offer an edge in adapting to diverse project requirements, whereas Langsmith's emphasis on debugging and evaluation enhances application quality. Security and privacy considerations vary between the two platforms, with Langsmith's monitoring capabilities potentially addressing security concerns more comprehensively. Community and adoption rates also differ, with Langchain being favored for its development-friendly features and Langsmith for its testing and evaluation tools.\\n\\n**V. Conclusion**\\n\\nIn conclusion, the comparison between Langchain and Langsmith underscores the importance of choosing the right tool based on project requirements. While Langchain excels in application development and versatility, Langsmith shines in post-development stages like testing and monitoring. Understanding the distinctions between these platforms is crucial for developers looking to leverage AI language models effectively. As language technology continues to evolve, the unique strengths of Langchain and Langsmith will play a pivotal role in shaping the future landscape of AI applications.\", 'revision_number': 2}}\n"
     ]
    }
   ],
   "source": [
    "thread = {'configurable': {'thread_id':'1'}}\n",
    "for s in graph.stream(\n",
    "    {\n",
    "        'task' : 'what is the difference between langchain and langsmith',\n",
    "        'max_revisions' : 2,\n",
    "        'revision_number' : 1\n",
    "        \n",
    "    }, thread):\n",
    "\n",
    "          print(s)\n"
   ]
  },
  {
   "cell_type": "code",
   "execution_count": null,
   "id": "0e7d7579-f112-4ddb-82a0-4c4cce54b32d",
   "metadata": {},
   "outputs": [],
   "source": []
  }
 ],
 "metadata": {
  "kernelspec": {
   "display_name": "Python 3 (ipykernel)",
   "language": "python",
   "name": "python3"
  },
  "language_info": {
   "codemirror_mode": {
    "name": "ipython",
    "version": 3
   },
   "file_extension": ".py",
   "mimetype": "text/x-python",
   "name": "python",
   "nbconvert_exporter": "python",
   "pygments_lexer": "ipython3",
   "version": "3.12.4"
  }
 },
 "nbformat": 4,
 "nbformat_minor": 5
}
