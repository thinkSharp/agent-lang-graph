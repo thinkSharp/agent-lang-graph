{
 "cells": [
  {
   "cell_type": "code",
   "execution_count": 1,
   "id": "6a91d143-a687-4b01-8ab2-86d02b3b9805",
   "metadata": {},
   "outputs": [],
   "source": [
    "from dotenv import load_dotenv\n",
    "_ = load_dotenv(dotenv_path='../.env/.env')"
   ]
  },
  {
   "cell_type": "code",
   "execution_count": 2,
   "id": "4823823c-5458-42aa-8261-3a75b9809d8b",
   "metadata": {},
   "outputs": [],
   "source": [
    "from langgraph.graph import StateGraph, END\n",
    "from typing import TypedDict, Annotated\n",
    "import operator\n",
    "from langchain_core.messages import AnyMessage, SystemMessage, HumanMessage, ToolMessage\n",
    "from langchain_openai import ChatOpenAI\n",
    "from langchain_community.tools.tavily_search import TavilySearchResults"
   ]
  },
  {
   "cell_type": "code",
   "execution_count": 3,
   "id": "8f7cf4a8-c497-4ed8-b4f0-e3d16c05c436",
   "metadata": {},
   "outputs": [
    {
     "name": "stdout",
     "output_type": "stream",
     "text": [
      "<class 'langchain_community.tools.tavily_search.tool.TavilySearchResults'>\n",
      "tavily_search_results_json\n"
     ]
    }
   ],
   "source": [
    "tool = TavilySearchResults(max_results=4)\n",
    "print(type(tool))\n",
    "print(tool.name)"
   ]
  },
  {
   "cell_type": "code",
   "execution_count": 4,
   "id": "6409d7cb-4c5d-4e8c-ba9e-017f0dfeae7d",
   "metadata": {},
   "outputs": [],
   "source": [
    "class AgentState(TypedDict):\n",
    "    messages : Annotated[list[AnyMessage], operator.add]"
   ]
  },
  {
   "cell_type": "code",
   "execution_count": 13,
   "id": "566a1698-8b75-45b0-9af4-94f619d16fca",
   "metadata": {},
   "outputs": [],
   "source": [
    "class Agent:\n",
    "\n",
    "    def __init__(self, model, tools, system=\"\"):\n",
    "        self.system = system\n",
    "        graph = StateGraph(AgentState)\n",
    "        graph.add_node(\"llm\", self.call_openai)\n",
    "        graph.add_node(\"action\", self.take_action)\n",
    "        graph.add_conditional_edges(\n",
    "            \"llm\",\n",
    "            self.exists_action,\n",
    "            {True: \"action\", False: END}\n",
    "        )\n",
    "        graph.add_edge(\"action\", \"llm\")\n",
    "        graph.set_entry_point(\"llm\")\n",
    "        self.graph = graph.compile()\n",
    "        self.tools = {t.name: t for t in tools}\n",
    "        self.model = model.bind_tools(tools)\n",
    "\n",
    "    def exists_action(self, state: AgentState):\n",
    "        result = state['messages'][-1]\n",
    "        return len(result.tool_calls) > 0\n",
    "\n",
    "    def call_openai(self, state: AgentState):\n",
    "        messages = state['messages']\n",
    "        if self.system:\n",
    "            messages = [SystemMessage(content=self.system)] + messages\n",
    "        message = self.model.invoke(messages)\n",
    "        return {'messages': [message]}\n",
    "\n",
    "    def take_action(self, state: AgentState):\n",
    "        tool_calls = state['messages'][-1].tool_calls\n",
    "        results = []\n",
    "        for t in tool_calls:\n",
    "            print(f\"Calling: {t}\")\n",
    "            if not t['name'] in self.tools:      # check for bad tool name from LLM\n",
    "                print(\"\\n ....bad tool name....\")\n",
    "                result = \"bad tool name, retry\"  # instruct LLM to retry if bad\n",
    "            else:\n",
    "                result = self.tools[t['name']].invoke(t['args'])\n",
    "            results.append(ToolMessage(tool_call_id=t['id'], name=t['name'], content=str(result)))\n",
    "        print(\"Back to the model!\")\n",
    "        return {'messages': results}"
   ]
  },
  {
   "cell_type": "code",
   "execution_count": 15,
   "id": "d8652bbc-6acc-4f8d-96dc-15b5e9133639",
   "metadata": {},
   "outputs": [],
   "source": [
    "prompt = \"\"\"\n",
    "You are a smart research assistant. Use the search engine to look up information. \\\n",
    "You are allowed to make multiple calls (either together or in sequence). \\\n",
    "Only look up information when you are sure of what you want. \\\n",
    "If you need to look up some information before asking a follow up question, you are allowed to do that!\n",
    "\"\"\"\n",
    "\n",
    "model = ChatOpenAI(model='gpt-3.5-turbo')\n",
    "abot = Agent(model, [tool], system = prompt)"
   ]
  },
  {
   "cell_type": "code",
   "execution_count": 16,
   "id": "f1b87626-5042-4e17-aef0-00f26fce5c7d",
   "metadata": {},
   "outputs": [
    {
     "data": {
      "image/png": "[encoded data removed]",
      "text/plain": [
       "<IPython.core.display.Image object>"
      ]
     },
     "execution_count": 16,
     "metadata": {},
     "output_type": "execute_result"
    }
   ],
   "source": [
    "from IPython.display import Image\n",
    "\n",
    "Image(abot.graph.get_graph().draw_png())"
   ]
  },
  {
   "cell_type": "code",
   "execution_count": 17,
   "id": "799134bb-0c8f-445a-89a5-2ea4b7390246",
   "metadata": {},
   "outputs": [
    {
     "name": "stdout",
     "output_type": "stream",
     "text": [
      "Calling: {'name': 'tavily_search_results_json', 'args': {'query': 'current weather in San Francisco'}, 'id': 'call_cog45QbvK9Albk3XJy4gbcJP'}\n",
      "Back to the model!\n"
     ]
    }
   ],
   "source": [
    "messages = [HumanMessage(content='What is the weather in SF?')]\n",
    "result = abot.graph.invoke({'messages': messages})"
   ]
  },
  {
   "cell_type": "code",
   "execution_count": 18,
   "id": "9d64e221-3631-4b91-9ad9-0c2e34fae4d6",
   "metadata": {},
   "outputs": [
    {
     "data": {
      "text/plain": [
       "{'messages': [HumanMessage(content='What is the weather in SF?'),\n",
       "  AIMessage(content='', additional_kwargs={'tool_calls': [{'id': 'call_cog45QbvK9Albk3XJy4gbcJP', 'function': {'arguments': '{\"query\":\"current weather in San Francisco\"}', 'name': 'tavily_search_results_json'}, 'type': 'function'}]}, response_metadata={'token_usage': {'completion_tokens': 22, 'prompt_tokens': 154, 'total_tokens': 176}, 'model_name': 'gpt-3.5-turbo-0125', 'system_fingerprint': None, 'finish_reason': 'tool_calls', 'logprobs': None}, id='run-3f8ebc22-72a7-4367-9273-a3a82263c6ff-0', tool_calls=[{'name': 'tavily_search_results_json', 'args': {'query': 'current weather in San Francisco'}, 'id': 'call_cog45QbvK9Albk3XJy4gbcJP'}], usage_metadata={'input_tokens': 154, 'output_tokens': 22, 'total_tokens': 176}),\n",
       "  ToolMessage(content='[{\\'url\\': \\'https://www.weatherapi.com/\\', \\'content\\': \"{\\'location\\': {\\'name\\': \\'San Francisco\\', \\'region\\': \\'California\\', \\'country\\': \\'United States of America\\', \\'lat\\': 37.78, \\'lon\\': -122.42, \\'tz_id\\': \\'America/Los_Angeles\\', \\'localtime_epoch\\': 1719770661, \\'localtime\\': \\'2024-06-30 11:04\\'}, \\'current\\': {\\'last_updated_epoch\\': 1719770400, \\'last_updated\\': \\'2024-06-30 11:00\\', \\'temp_c\\': 21.1, \\'temp_f\\': 70.0, \\'is_day\\': 1, \\'condition\\': {\\'text\\': \\'Sunny\\', \\'icon\\': \\'//cdn.weatherapi.com/weather/64x64/day/113.png\\', \\'code\\': 1000}, \\'wind_mph\\': 4.3, \\'wind_kph\\': 6.8, \\'wind_degree\\': 220, \\'wind_dir\\': \\'SW\\', \\'pressure_mb\\': 1015.0, \\'pressure_in\\': 29.98, \\'precip_mm\\': 0.0, \\'precip_in\\': 0.0, \\'humidity\\': 66, \\'cloud\\': 0, \\'feelslike_c\\': 21.1, \\'feelslike_f\\': 70.0, \\'windchill_c\\': 16.9, \\'windchill_f\\': 62.5, \\'heatindex_c\\': 16.9, \\'heatindex_f\\': 62.4, \\'dewpoint_c\\': 11.6, \\'dewpoint_f\\': 52.9, \\'vis_km\\': 16.0, \\'vis_miles\\': 9.0, \\'uv\\': 5.0, \\'gust_mph\\': 8.6, \\'gust_kph\\': 13.9}}\"}, {\\'url\\': \\'https://www.timeanddate.com/weather/usa/san-francisco/hourly\\', \\'content\\': \\'Hour-by-Hour Forecast for San Francisco, California, USA. Weather Today Weather Hourly 14 Day Forecast Yesterday/Past Weather Climate (Averages) Currently: 80 °F. Sunny. (Weather station: Hayward Air Terminal, USA). See more current weather.\\'}, {\\'url\\': \\'https://forecast.weather.gov/MapClick.php?lat=37.781539&lon=-122.416571\\', \\'content\\': \\'San Francisco CA 37.77°N 122.41°W (Elev. 131 ft) Last Update: 6:09 pm PDT Jun 26, 2024. Forecast Valid: 7pm PDT Jun 26, 2024-6pm PDT Jul 3, 2024 . Forecast Discussion . Additional Resources. Radar & Satellite Image. Hourly Weather Forecast. ... Severe Weather ; Current Outlook Maps ; Drought ; Fire Weather ; Fronts/Precipitation Maps ...\\'}, {\\'url\\': \\'https://www.accuweather.com/en/us/san-francisco/94103/weather-forecast/6-347629_1_al\\', \\'content\\': \\'San Francisco, CA Weather Forecast, with current conditions, wind, air quality, and what to expect for the next 3 days.\\'}]', name='tavily_search_results_json', tool_call_id='call_cog45QbvK9Albk3XJy4gbcJP'),\n",
       "  AIMessage(content='The current weather in San Francisco is sunny with a temperature of 70.0°F (21.1°C). The wind speed is 4.3 mph (6.8 kph) coming from the southwest direction. The humidity is at 66%, and there is no precipitation at the moment.', response_metadata={'token_usage': {'completion_tokens': 62, 'prompt_tokens': 881, 'total_tokens': 943}, 'model_name': 'gpt-3.5-turbo-0125', 'system_fingerprint': None, 'finish_reason': 'stop', 'logprobs': None}, id='run-a1946a0f-b73e-4a9f-8395-9acf7bd391ad-0', usage_metadata={'input_tokens': 881, 'output_tokens': 62, 'total_tokens': 943})]}"
      ]
     },
     "execution_count": 18,
     "metadata": {},
     "output_type": "execute_result"
    }
   ],
   "source": [
    "result"
   ]
  },
  {
   "cell_type": "code",
   "execution_count": 19,
   "id": "e6296de4-a9fd-4eb0-be17-470a856e547f",
   "metadata": {},
   "outputs": [
    {
     "data": {
      "text/plain": [
       "'The current weather in San Francisco is sunny with a temperature of 70.0°F (21.1°C). The wind speed is 4.3 mph (6.8 kph) coming from the southwest direction. The humidity is at 66%, and there is no precipitation at the moment.'"
      ]
     },
     "execution_count": 19,
     "metadata": {},
     "output_type": "execute_result"
    }
   ],
   "source": [
    "result['messages'][-1].content"
   ]
  },
  {
   "cell_type": "code",
   "execution_count": 21,
   "id": "74c3f0f1-a437-4c38-8598-f9d642937349",
   "metadata": {},
   "outputs": [
    {
     "name": "stdout",
     "output_type": "stream",
     "text": [
      "Calling: {'name': 'tavily_search_results_json', 'args': {'query': 'Super Bowl 2024 winner'}, 'id': 'call_Ug5q1lKq27wsCJGYdMNrXxZ1'}\n",
      "Calling: {'name': 'tavily_search_results_json', 'args': {'query': \"state where Super Bowl 2024 winner's headquarters located\"}, 'id': 'call_zkxX3QWT20PRnVncBq2GNmO7'}\n",
      "Back to the model!\n",
      "Calling: {'name': 'tavily_search_results_json', 'args': {'query': 'Missouri GDP'}, 'id': 'call_ffwwO2AfZkgVVkc4rWyxAoO8'}\n",
      "Back to the model!\n"
     ]
    }
   ],
   "source": [
    "# Note, the query was modified to produce more consistent results. \n",
    "# Results may vary per run and over time as search information and models change.\n",
    "\n",
    "query = \"Who won the super bowl in 2024? In what state is the winning team headquarters located? \\\n",
    "What is the GDP of that state? Answer each question.\" \n",
    "messages = [HumanMessage(content=query)]\n",
    "\n",
    "model = ChatOpenAI(model=\"gpt-3.5-turbo\")  # requires more advanced model\n",
    "abot = Agent(model, [tool], system=prompt)\n",
    "result = abot.graph.invoke({\"messages\": messages})"
   ]
  },
  {
   "cell_type": "code",
   "execution_count": 22,
   "id": "631b3236-4e4b-46b5-b1a2-909542b31d59",
   "metadata": {},
   "outputs": [
    {
     "name": "stdout",
     "output_type": "stream",
     "text": [
      "The GDP of Missouri in 2023 was $344.12 billion.\n"
     ]
    }
   ],
   "source": [
    "print(result['messages'][-1].content)"
   ]
  },
  {
   "cell_type": "code",
   "execution_count": 23,
   "id": "b153357f-ce31-4ca8-a22c-6fc3d692c6f8",
   "metadata": {},
   "outputs": [
    {
     "data": {
      "text/plain": [
       "[HumanMessage(content='Who won the super bowl in 2024? In what state is the winning team headquarters located? What is the GDP of that state? Answer each question.'),\n",
       " AIMessage(content='', additional_kwargs={'tool_calls': [{'id': 'call_Ug5q1lKq27wsCJGYdMNrXxZ1', 'function': {'arguments': '{\"query\": \"Super Bowl 2024 winner\"}', 'name': 'tavily_search_results_json'}, 'type': 'function'}, {'id': 'call_zkxX3QWT20PRnVncBq2GNmO7', 'function': {'arguments': '{\"query\": \"state where Super Bowl 2024 winner\\'s headquarters located\"}', 'name': 'tavily_search_results_json'}, 'type': 'function'}]}, response_metadata={'token_usage': {'completion_tokens': 66, 'prompt_tokens': 179, 'total_tokens': 245}, 'model_name': 'gpt-3.5-turbo-0125', 'system_fingerprint': None, 'finish_reason': 'tool_calls', 'logprobs': None}, id='run-10a32891-9ade-47ee-89ad-db38d22ea4de-0', tool_calls=[{'name': 'tavily_search_results_json', 'args': {'query': 'Super Bowl 2024 winner'}, 'id': 'call_Ug5q1lKq27wsCJGYdMNrXxZ1'}, {'name': 'tavily_search_results_json', 'args': {'query': \"state where Super Bowl 2024 winner's headquarters located\"}, 'id': 'call_zkxX3QWT20PRnVncBq2GNmO7'}], usage_metadata={'input_tokens': 179, 'output_tokens': 66, 'total_tokens': 245}),\n",
       " ToolMessage(content='[{\\'url\\': \\'https://apnews.com/live/super-bowl-2024-updates\\', \\'content\\': \\'Throw in the fact that Chiefs coach Andy Reid will be in his fifth Super Bowl, the third most in NFL history, and has a chance to win a third ring, and the knowledge on the Kansas City sideline will be an advantage too big for the 49ers to overcome.\\\\n She performed in Japan on Saturday night before a flight across nine time zones and the international date line to reach the U.S.\\\\nRihanna performs during halftime of the NFL Super Bowl 57 football game between the Philadelphia Eagles and the Kansas City Chiefs, Sunday, Feb. 12, 2023, in Glendale, Ariz. (AP Photo/David J. Phillip)\\\\n After the teams take the field, Post Malone will perform “America the Beautiful” and Reba McEntire will sing “The Star-Spangled Banner.”\\\\nSan Francisco 49ers quarterback Brock Purdy (13) warms up before the NFL Super Bowl 58 football game against the Kansas City Chiefs, Sunday, Feb. 11, 2024, in Las Vegas. He was also the referee when the Chiefs beat the 49ers in the Super Bowl four years ago — and when the Rams beat the Saints in the 2019 NFC championship game after an infamous missed call.\\\\n Purdy’s comeback from the injury to his throwing arm suffered in last season’s NFC championship loss to the Philadelphia Eagles has been part of the storybook start to his career that started as Mr. Irrelevant as the 262nd pick in the 2022 draft.\\\\n\\'}, {\\'url\\': \\'https://www.espn.com/nfl/story/_/id/39480722/49ers-chiefs-live-super-bowl-lviii-updates-moments-highlights\\', \\'content\\': \"With a relentless defense and opportune plays by their star quarterback -- including a pair of gutsy overtime scrambles -- the Chiefs won their third Super Bowl in five years in a 25-22 overtime victory against the San Francisco 49ers in only the second overtime game in Super Bowl history.\\\\n Staff\\\\nTaylor Swift supports Travis Kelce, chugs drink at Super Bowl LVIII10hTory Barron\\\\nAfter posting a losing record in December, the Chiefs embraced an underdog, villain mentality throughout the postseason, upsetting three teams en route to their second consecutive Super Bowl title, becoming the ninth team to repeat as Super Bowl champions and first since the 2004 New England Patriots.\\\\n ESPN\\\\nSuper Bowl 2024 - Highlights from Chiefs\\' win vs. 49ers\\\\nMike Tannenbaum and Tim Hasselbeck react to the Chiefs\\' thrilling overtime victory over the 49ers in the Super Bowl. The 49ers had the ball with 2:51 to go in a tied game, but a signature Steve Spagnuolo blitz on third down late in the fourth quarter forced a 49ers field goal. Led by their captains, most of the Chiefs arrived to Allegiant Stadium in Las Vegas on Sunday in all black, signaling a steely resolve to upset Brock Purdy and the NFC\\'s best offensive ensemble.\\\\n\"}, {\\'url\\': \\'https://www.nytimes.com/athletic/live-blogs/49ers-vs-chiefs-super-bowl-live-score-updates-game-summary/s1iecqQvbh5m/\\', \\'content\\': \"It\\'s the fourth Super Bowl win for the Chiefs franchise and the third for the team under coach Andy Reid, who joins Bill Walsh and Joe Gibbs in a tie for third-most all-time. ... 2024 Super Bowl ...\"}, {\\'url\\': \\'https://www.cbssports.com/nfl/news/2024-super-bowl-chiefs-vs-49ers-score-patrick-mahomes-leads-ot-comeback-as-k-c-wins-back-to-back-titles/live/\\', \\'content\\': \"The championship-winning drive, which included a fourth-and-1 scramble from Mahomes and a clutch 7-yard catch from tight end Travis Kelce, was a must-score for K.C. The NFL\\'s new playoff overtime rules -- both teams are guaranteed at least one possession in the extra period -- were in effect for the first time, and the Chiefs needed to answer the Niners\\' field goal.\\\\n Held out of the end zone until that point, Kansas City grabbed its first lead of the game at 13-10.\\\\nJennings\\' touchdown receiving (followed by a missed extra point) concluded a 75-yard drive that put the Niners back on top, 16-13, as the wideout joined former Philadelphia Eagles quarterback Nick Foles as the only players to throw and catch a touchdown in a Super Bowl.\\\\n He spread the ball around -- eight pass-catchers had at least two receptions -- slowly but surely overcoming a threatening 49ers defense that knocked him off his spot consistently in the first half.\\\\nMahomes, with his third Super Bowl MVP, now sits alongside Tom Brady (five) and Joe Montana (three) atop the mountain while becoming just the third player to win the award back-to-back, joining Bart Starr (I-II) and Terry Bradshaw (XIII-XIV).\\\\n The muffed punt that bounced off of cornerback Darrell Luter Jr.\\'s ankle was also the big break that the Chiefs needed as they scored on the very next play to take the lead for the first time in the game. College Pick\\'em\\\\nA Daily SportsLine Betting Podcast\\\\nNFL Playoff Time!\\\\n2024 Super Bowl, Chiefs vs. 49ers score: Patrick Mahomes leads OT comeback as K.C. wins back-to-back titles\\\\nCall it a dynasty; the Chiefs are the first team to win consecutive Super Bowls since 2003-04\\\\nThe Kansas City Chiefs are Super Bowl champions, again.\"}]', name='tavily_search_results_json', tool_call_id='call_Ug5q1lKq27wsCJGYdMNrXxZ1'),\n",
       " ToolMessage(content='[{\\'url\\': \\'https://www.sportingnews.com/us/nfl/news/super-bowl-2024-location-city-stadium/d8a0377f75a677157495505c\\', \\'content\\': \"The league\\'s best teams will make history at the game, as it\\'s the first time Las Vegas will host the Super Bowl. Allegiant Stadium\\'s building was completed in July of 2020, ahead of the Raiders\\' first season in Nevada, and it was approved to host the Super Bowl a year later.\\\\n Will it be another Kelce Bowl, like last year, or will be No. 1 seeds give us a (partial) Harbaugh Bowl?\\\\nMORE:\\\\xa0Revisiting the Ravens vs. 49ers \\'Harbaugh Bowl\\' of 2013\\\\n Future Super Bowl locations\\\\nThe NFL has already selected where the Super Bowl will be held through 2027.\\\\n It\\'s the first time the city -- and the state -- welcome the big game.\\\\n\"}, {\\'url\\': \\'https://www.nbcsports.com/nfl/news/where-is-the-2024-super-bowl-location-date-kick-off-time-and-more-for-chiefs-vs-49ers-game\\', \\'content\\': \\'The biggest NFL game of the year takes place in Las Vegas, Nevada for the first time ever this Sunday, February 11. Super Bowl LVIII featuring the Kansas City Chiefs and San Francisco 49ers will kick off at Allegiant Stadium at 6:30 PM ET on CBS.. RELATED: Super Bowl 2024 Cheat Sheet See below to for additional information on how to watch/live stream Super Bowl LVIII.\\'}, {\\'url\\': \\'https://www.usatoday.com/story/sports/nfl/super-bowl/2024/01/30/super-bowl-host-cities-venues-nfl-championship-game/72092212007/\\', \\'content\\': \"Washington 42, Denver Broncos 10\\\\nSuper Bowl 21 (Jan. 25, 1987)\\\\nVenue: Rose Bowl\\\\nLocation: Pasadena, California\\\\nResult: New York Giants 39, Denver Broncos 20\\\\nSuper Bowl 20 (Jan. 26, 1986)\\\\nVenue: Louisiana Superdome\\\\nLocation: New Orleans\\\\nResult: Levi\\'s Stadium\\\\nLocation: Santa Clara, California\\\\nSuper Bowl 61 (Feb. 14, 2027)\\\\nVenue: SoFi Stadium\\\\nLocation: Inglewood, California\\\\nPrevious Super Bowl locations\\\\nSuper Bowl 58 (Feb. 11, 2024)\\\\n Dallas Cowboys 27, Pittsburgh Steelers 17\\\\nSuper Bowl 29 (Jan. 29, 1995)\\\\nVenue: Joe Robbie Stadium\\\\nLocation: Miami Gardens, Florida\\\\nResult: San Francisco 49ers 49, San Diego Chargers 26\\\\nSuper Bowl 28 (Jan. 30, 1994)\\\\n Washington 27, Miami Dolphins 17\\\\nSuper Bowl 16 (Jan. 24, 1982)\\\\nVenue: Pontiac Silverdome\\\\nLocation: Pontiac, Michigan\\\\nResult: San Francisco 49ers 26, Cincinnati Bengals 21\\\\nSuper Bowl 15 (Jan. 25, 1981)\\\\n New York Jets 16, Baltimore Colts 7\\\\nSuper Bowl 2 (Jan. 14, 1968)\\\\nVenue: Orange Bowl\\\\nLocation: Miami\\\\nResult:\"}, {\\'url\\': \\'https://www.cbssports.com/nfl/news/super-bowl-2024-lookahead-date-time-location-tv-channel-for-super-bowl-lviii/\\', \\'content\\': \"Our Latest NFL Stories\\\\nSuper Bowl 2024 lookahead: Date, time, location, TV\\\\n2024 NFL Honors ballot: Voting for each top award\\\\nSuper Bowl prediction: Mahomes eyes history\\\\nPurdy finally shed game-manager label?\\\\n A look ahead to next year\\'s Super Bowl\\\\nThe Kansas City Chiefs are Super Bowl LVII champions after defeating the Philadelphia Eagles by a score of 38-35, so it only makes sense to immediately move onto next season right? Seattle earns \\'B\\'\\\\nMock: Lions add CB, while QBs go 1-2-3\\\\nCommanders hiring Cowboys DC Quinn as new HC\\\\nSeahawks hiring Ravens DC Macdonald as head coach\\\\nKraft admits to huge mistake he made with Patriots\\\\nReport: The Super Bowl has just ended, yet it is never too early to start looking at the next big game.\\\\n Play Now\\\\nFootball Pick\\'em\\\\nPlay Now\\\\nCollege Pick\\'em\\\\nA\"}]', name='tavily_search_results_json', tool_call_id='call_zkxX3QWT20PRnVncBq2GNmO7'),\n",
       " AIMessage(content=\"The Kansas City Chiefs won the Super Bowl in 2024 by defeating the San Francisco 49ers in a 25-22 overtime victory. The winning team's headquarters are located in Kansas City, Missouri. I will now look up the GDP of Missouri to provide you with that information.\", additional_kwargs={'tool_calls': [{'id': 'call_ffwwO2AfZkgVVkc4rWyxAoO8', 'function': {'arguments': '{\"query\":\"Missouri GDP\"}', 'name': 'tavily_search_results_json'}, 'type': 'function'}]}, response_metadata={'token_usage': {'completion_tokens': 79, 'prompt_tokens': 2500, 'total_tokens': 2579}, 'model_name': 'gpt-3.5-turbo-0125', 'system_fingerprint': None, 'finish_reason': 'tool_calls', 'logprobs': None}, id='run-4d7cd2a3-2a9f-4bda-b3cb-cd13a5140007-0', tool_calls=[{'name': 'tavily_search_results_json', 'args': {'query': 'Missouri GDP'}, 'id': 'call_ffwwO2AfZkgVVkc4rWyxAoO8'}], usage_metadata={'input_tokens': 2500, 'output_tokens': 79, 'total_tokens': 2579}),\n",
       " ToolMessage(content='[{\\'url\\': \\'https://usafacts.org/topics/economy/state/missouri/\\', \\'content\\': \"Learn about Missouri\\'s economy size, growth, and job market from government data sources. Compare Missouri\\'s GDP ranking, unemployment rate, and real GDP growth with the US and other states.\"}, {\\'url\\': \\'https://meric.mo.gov/data/gross-domestic-product-data-series\\', \\'content\\': \\'Explore the gross domestic product (GDP) data for Missouri and its sub-regions from 2017 to 2023. See the value-added from industries, the private and public sector contributions, and the inflation-adjusted and current dollar amounts.\\'}, {\\'url\\': \\'https://meric.mo.gov/data/gross-domestic-product-data-series/state-gross-domestic-product-2020\\', \\'content\\': \\'Missouri ranked 21st in GDP among states in 2022, with a 2.0 percent increase from 2021. Manufacturing, real estate, and health care were the top contributing industries, while some sectors declined and some grew.\\'}, {\\'url\\': \\'https://www.statista.com/statistics/187908/gdp-of-the-us-federal-state-of-missouri-since-1997/\\', \\'content\\': \\'Published by Statista Research Department , Apr 8, 2024. In 2023, the real gross domestic product (GDP) of Missouri was 344.12 billion U.S. dollars. This is an increase from the previous year ...\\'}]', name='tavily_search_results_json', tool_call_id='call_ffwwO2AfZkgVVkc4rWyxAoO8'),\n",
       " AIMessage(content='The GDP of Missouri in 2023 was $344.12 billion.', response_metadata={'token_usage': {'completion_tokens': 16, 'prompt_tokens': 2900, 'total_tokens': 2916}, 'model_name': 'gpt-3.5-turbo-0125', 'system_fingerprint': None, 'finish_reason': 'stop', 'logprobs': None}, id='run-87f32744-76f8-4564-bd30-5412361fb67b-0', usage_metadata={'input_tokens': 2900, 'output_tokens': 16, 'total_tokens': 2916})]"
      ]
     },
     "execution_count": 23,
     "metadata": {},
     "output_type": "execute_result"
    }
   ],
   "source": [
    "result['messages']"
   ]
  },
  {
   "cell_type": "code",
   "execution_count": null,
   "id": "310ade47-c681-42b1-9588-de9188ac77f1",
   "metadata": {},
   "outputs": [],
   "source": []
  }
 ],
 "metadata": {
  "kernelspec": {
   "display_name": "Python 3 (ipykernel)",
   "language": "python",
   "name": "python3"
  },
  "language_info": {
   "codemirror_mode": {
    "name": "ipython",
    "version": 3
   },
   "file_extension": ".py",
   "mimetype": "text/x-python",
   "name": "python",
   "nbconvert_exporter": "python",
   "pygments_lexer": "ipython3",
   "version": "3.12.4"
  }
 },
 "nbformat": 4,
 "nbformat_minor": 5
}
