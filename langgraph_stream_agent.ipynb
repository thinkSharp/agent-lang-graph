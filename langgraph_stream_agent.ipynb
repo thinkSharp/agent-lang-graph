{
 "cells": [
  {
   "cell_type": "code",
   "execution_count": 1,
   "id": "3f3f5864-8e1f-4657-a61f-25163c51c851",
   "metadata": {},
   "outputs": [],
   "source": [
    "from dotenv import load_dotenv\n",
    "\n",
    "_ = load_dotenv(dotenv_path='../.env/.env')"
   ]
  },
  {
   "cell_type": "code",
   "execution_count": 2,
   "id": "0e7538d2-e4c0-4128-af5f-350a155976ca",
   "metadata": {},
   "outputs": [],
   "source": [
    "from langgraph.graph import StateGraph, END\n",
    "from typing import TypedDict, Annotated\n",
    "import operator\n",
    "from langchain_core.messages import AnyMessage, SystemMessage, HumanMessage, ToolMessage\n",
    "from langchain_openai import ChatOpenAI\n",
    "from langchain_community.tools.tavily_search import TavilySearchResults"
   ]
  },
  {
   "cell_type": "code",
   "execution_count": 3,
   "id": "d367b0e1-116a-4698-ae38-2a8f7ecc6a81",
   "metadata": {},
   "outputs": [],
   "source": [
    "tool = TavilySearchResults(max_results=2)"
   ]
  },
  {
   "cell_type": "code",
   "execution_count": 4,
   "id": "7df8e723-bc88-42fa-8a71-438041f1cee0",
   "metadata": {},
   "outputs": [],
   "source": [
    "class AgentState(TypedDict):\n",
    "    messages: Annotated[list[AnyMessage], operator.add]"
   ]
  },
  {
   "cell_type": "code",
   "execution_count": 5,
   "id": "d18482e9-36ae-4618-9577-fe81ec0d7cff",
   "metadata": {},
   "outputs": [
    {
     "data": {
      "text/plain": [
       "typing._TypedDictMeta"
      ]
     },
     "execution_count": 5,
     "metadata": {},
     "output_type": "execute_result"
    }
   ],
   "source": [
    "type(AgentState)"
   ]
  },
  {
   "cell_type": "code",
   "execution_count": 10,
   "id": "85036c01-4eab-4ed9-b6c6-7668cff28916",
   "metadata": {},
   "outputs": [],
   "source": [
    "test = AgentState({'messages':['test']})"
   ]
  },
  {
   "cell_type": "code",
   "execution_count": 11,
   "id": "a9affc8e-bae9-421b-a2b5-829e58fa8bd1",
   "metadata": {},
   "outputs": [
    {
     "data": {
      "text/plain": [
       "{'messages': ['test']}"
      ]
     },
     "execution_count": 11,
     "metadata": {},
     "output_type": "execute_result"
    }
   ],
   "source": [
    "test"
   ]
  },
  {
   "cell_type": "code",
   "execution_count": 12,
   "id": "aae8fe2b-42af-4d2f-a649-022f59615052",
   "metadata": {},
   "outputs": [],
   "source": [
    "from langgraph.checkpoint.sqlite import SqliteSaver\n",
    "\n",
    "memory = SqliteSaver.from_conn_string(':memory:')"
   ]
  },
  {
   "cell_type": "code",
   "execution_count": 14,
   "id": "a225ca0a-31e5-4023-b22f-ffa993e9e27f",
   "metadata": {},
   "outputs": [],
   "source": [
    "class Agent:\n",
    "    def __init__(self, model, tools, checkpointer, system=\"\"):\n",
    "        self.system = system\n",
    "        graph = StateGraph(AgentState)\n",
    "        graph.add_node(\"llm\", self.call_openai)\n",
    "        graph.add_node(\"action\", self.take_action)\n",
    "        graph.add_conditional_edges(\"llm\", self.exists_action, {True: \"action\", False: END})\n",
    "        graph.add_edge(\"action\", \"llm\")\n",
    "        graph.set_entry_point(\"llm\")\n",
    "        self.graph = graph.compile(checkpointer=checkpointer)\n",
    "        self.tools = {t.name: t for t in tools}\n",
    "        self.model = model.bind_tools(tools)\n",
    "\n",
    "    def call_openai(self, state: AgentState):\n",
    "        messages = state['messages']\n",
    "        if self.system:\n",
    "            messages = [SystemMessage(content=self.system)] + messages\n",
    "        message = self.model.invoke(messages)\n",
    "        return {'messages': [message]}\n",
    "\n",
    "    def exists_action(self, state: AgentState):\n",
    "        result = state['messages'][-1]\n",
    "        return len(result.tool_calls) > 0\n",
    "\n",
    "    def take_action(self, state: AgentState):\n",
    "        tool_calls = state['messages'][-1].tool_calls\n",
    "        results = []\n",
    "        for t in tool_calls:\n",
    "            print(f\"Calling: {t}\")\n",
    "            result = self.tools[t['name']].invoke(t['args'])\n",
    "            results.append(ToolMessage(tool_call_id=t['id'], name=t['name'], content=str(result)))\n",
    "        print(\"Back to the model!\")\n",
    "        return {'messages': results}"
   ]
  },
  {
   "cell_type": "code",
   "execution_count": 20,
   "id": "258f3da3-d150-4d7a-94f5-9c87ae7b05ab",
   "metadata": {},
   "outputs": [],
   "source": [
    "prompt = \"\"\"You are a smart research assistant. Use the search engine to look up information. \\\n",
    "You are allowed to make multiple calls (either together or in sequence). \\\n",
    "Only look up information when you are sure of what you want. \\\n",
    "If you need to look up some information before asking a follow up question, you are allowed to do that!\n",
    "\"\"\"\n",
    "model = ChatOpenAI(model=\"gpt-4-turbo\")\n",
    "abot = Agent(model, [tool], system=prompt, checkpointer=memory)"
   ]
  },
  {
   "cell_type": "code",
   "execution_count": 21,
   "id": "6750c784-9ebe-49d7-8033-7cd17b4893f3",
   "metadata": {},
   "outputs": [],
   "source": [
    "messages = [HumanMessage(content='What is the weather in SF?')]"
   ]
  },
  {
   "cell_type": "code",
   "execution_count": 22,
   "id": "b3f5dfeb-daf6-4f11-ba0b-f8209c90ace6",
   "metadata": {},
   "outputs": [],
   "source": [
    "thread = {'configurable':{'thread_id':'1'}}"
   ]
  },
  {
   "cell_type": "code",
   "execution_count": 23,
   "id": "4d606955-04ac-40dd-b5ab-c8aea758f698",
   "metadata": {},
   "outputs": [
    {
     "name": "stdout",
     "output_type": "stream",
     "text": [
      "[AIMessage(content='', additional_kwargs={'tool_calls': [{'id': 'call_hRVmDlGG9HVDSCgUcfbKSSSf', 'function': {'arguments': '{\"query\":\"current weather in San Francisco\"}', 'name': 'tavily_search_results_json'}, 'type': 'function'}]}, response_metadata={'token_usage': {'completion_tokens': 22, 'prompt_tokens': 164, 'total_tokens': 186}, 'model_name': 'gpt-4-turbo-2024-04-09', 'system_fingerprint': 'fp_486730399b', 'finish_reason': 'tool_calls', 'logprobs': None}, id='run-53adc345-844d-47a5-8c87-9fad9f49324e-0', tool_calls=[{'name': 'tavily_search_results_json', 'args': {'query': 'current weather in San Francisco'}, 'id': 'call_hRVmDlGG9HVDSCgUcfbKSSSf'}], usage_metadata={'input_tokens': 164, 'output_tokens': 22, 'total_tokens': 186})]\n",
      "Calling: {'name': 'tavily_search_results_json', 'args': {'query': 'current weather in San Francisco'}, 'id': 'call_hRVmDlGG9HVDSCgUcfbKSSSf'}\n",
      "Back to the model!\n",
      "[ToolMessage(content=\"[{'url': 'https://world-weather.info/forecast/usa/san_francisco/june-2024/', 'content': 'Extended weather forecast in San Francisco. Hourly Week 10 days 14 days 30 days Year. Detailed ⚡ San Francisco Weather Forecast for June 2024 - day/night 🌡️ temperatures, precipitations - World-Weather.info.'}, {'url': 'https://www.accuweather.com/en/us/san-francisco/94103/june-weather/347629', 'content': 'Get the monthly weather forecast for San Francisco, CA, including daily high/low, historical averages, to help you plan ahead.'}]\", name='tavily_search_results_json', tool_call_id='call_hRVmDlGG9HVDSCgUcfbKSSSf')]\n",
      "[AIMessage(content='It appears I fetched the wrong data. Let me try to find the current weather in San Francisco again.', additional_kwargs={'tool_calls': [{'id': 'call_JzO8Hl4nmsnM08oTJ0yvrG1O', 'function': {'arguments': '{\"query\":\"current weather in San Francisco\"}', 'name': 'tavily_search_results_json'}, 'type': 'function'}]}, response_metadata={'token_usage': {'completion_tokens': 44, 'prompt_tokens': 341, 'total_tokens': 385}, 'model_name': 'gpt-4-turbo-2024-04-09', 'system_fingerprint': 'fp_486730399b', 'finish_reason': 'tool_calls', 'logprobs': None}, id='run-74d7d5f8-b782-4494-857e-bc320e6451f7-0', tool_calls=[{'name': 'tavily_search_results_json', 'args': {'query': 'current weather in San Francisco'}, 'id': 'call_JzO8Hl4nmsnM08oTJ0yvrG1O'}], usage_metadata={'input_tokens': 341, 'output_tokens': 44, 'total_tokens': 385})]\n",
      "Calling: {'name': 'tavily_search_results_json', 'args': {'query': 'current weather in San Francisco'}, 'id': 'call_JzO8Hl4nmsnM08oTJ0yvrG1O'}\n",
      "Back to the model!\n",
      "[ToolMessage(content='[{\\'url\\': \\'https://www.wunderground.com/hourly/us/ca/san-francisco/94145/date/2024-6-30\\', \\'content\\': \\'San Francisco Weather Forecasts. Weather Underground provides local & long-range weather forecasts, weatherreports, maps & tropical weather conditions for the San Francisco area.\\'}, {\\'url\\': \\'https://www.weatherapi.com/\\', \\'content\\': \"{\\'location\\': {\\'name\\': \\'San Francisco\\', \\'region\\': \\'California\\', \\'country\\': \\'United States of America\\', \\'lat\\': 37.78, \\'lon\\': -122.42, \\'tz_id\\': \\'America/Los_Angeles\\', \\'localtime_epoch\\': 1719775062, \\'localtime\\': \\'2024-06-30 12:17\\'}, \\'current\\': {\\'last_updated_epoch\\': 1719774900, \\'last_updated\\': \\'2024-06-30 12:15\\', \\'temp_c\\': 22.2, \\'temp_f\\': 72.0, \\'is_day\\': 1, \\'condition\\': {\\'text\\': \\'Sunny\\', \\'icon\\': \\'//cdn.weatherapi.com/weather/64x64/day/113.png\\', \\'code\\': 1000}, \\'wind_mph\\': 13.6, \\'wind_kph\\': 22.0, \\'wind_degree\\': 270, \\'wind_dir\\': \\'W\\', \\'pressure_mb\\': 1016.0, \\'pressure_in\\': 29.99, \\'precip_mm\\': 0.01, \\'precip_in\\': 0.0, \\'humidity\\': 55, \\'cloud\\': 0, \\'feelslike_c\\': 24.6, \\'feelslike_f\\': 76.4, \\'windchill_c\\': 17.4, \\'windchill_f\\': 63.3, \\'heatindex_c\\': 17.4, \\'heatindex_f\\': 63.3, \\'dewpoint_c\\': 11.9, \\'dewpoint_f\\': 53.3, \\'vis_km\\': 16.0, \\'vis_miles\\': 9.0, \\'uv\\': 4.0, \\'gust_mph\\': 18.1, \\'gust_kph\\': 29.2}}\"}]', name='tavily_search_results_json', tool_call_id='call_JzO8Hl4nmsnM08oTJ0yvrG1O')]\n",
      "[AIMessage(content='The current weather in San Francisco is sunny with a temperature of 72°F (22.2°C). The wind is coming from the west at about 13.6 mph. The humidity is at 55%, and the atmospheric pressure is 1016.0 mb.', response_metadata={'token_usage': {'completion_tokens': 56, 'prompt_tokens': 876, 'total_tokens': 932}, 'model_name': 'gpt-4-turbo-2024-04-09', 'system_fingerprint': 'fp_486730399b', 'finish_reason': 'stop', 'logprobs': None}, id='run-4fc0f85c-fba0-4f9d-ae12-be5f12c842ac-0', usage_metadata={'input_tokens': 876, 'output_tokens': 56, 'total_tokens': 932})]\n"
     ]
    }
   ],
   "source": [
    "for event in abot.graph.stream({'messages': messages}, thread):\n",
    "    for v in event.values():\n",
    "        print(v['messages'])"
   ]
  },
  {
   "cell_type": "code",
   "execution_count": 24,
   "id": "1cbff9cc-d76a-40ea-9843-c5c5c1873ae4",
   "metadata": {},
   "outputs": [
    {
     "name": "stdout",
     "output_type": "stream",
     "text": [
      "{'messages': [AIMessage(content='', additional_kwargs={'tool_calls': [{'id': 'call_er9ldHR4GALe1pXluxXTwDp8', 'function': {'arguments': '{\"query\":\"current weather in Los Angeles\"}', 'name': 'tavily_search_results_json'}, 'type': 'function'}]}, response_metadata={'token_usage': {'completion_tokens': 22, 'prompt_tokens': 944, 'total_tokens': 966}, 'model_name': 'gpt-4-turbo-2024-04-09', 'system_fingerprint': 'fp_486730399b', 'finish_reason': 'tool_calls', 'logprobs': None}, id='run-fdf0c8f3-1234-4f93-bd4c-e5c647a62c95-0', tool_calls=[{'name': 'tavily_search_results_json', 'args': {'query': 'current weather in Los Angeles'}, 'id': 'call_er9ldHR4GALe1pXluxXTwDp8'}], usage_metadata={'input_tokens': 944, 'output_tokens': 22, 'total_tokens': 966})]}\n",
      "Calling: {'name': 'tavily_search_results_json', 'args': {'query': 'current weather in Los Angeles'}, 'id': 'call_er9ldHR4GALe1pXluxXTwDp8'}\n",
      "Back to the model!\n",
      "{'messages': [ToolMessage(content='[{\\'url\\': \\'https://www.weatherapi.com/\\', \\'content\\': \"{\\'location\\': {\\'name\\': \\'Los Angeles\\', \\'region\\': \\'California\\', \\'country\\': \\'United States of America\\', \\'lat\\': 34.05, \\'lon\\': -118.24, \\'tz_id\\': \\'America/Los_Angeles\\', \\'localtime_epoch\\': 1719775152, \\'localtime\\': \\'2024-06-30 12:19\\'}, \\'current\\': {\\'last_updated_epoch\\': 1719774900, \\'last_updated\\': \\'2024-06-30 12:15\\', \\'temp_c\\': 21.7, \\'temp_f\\': 71.1, \\'is_day\\': 1, \\'condition\\': {\\'text\\': \\'Mist\\', \\'icon\\': \\'//cdn.weatherapi.com/weather/64x64/day/143.png\\', \\'code\\': 1030}, \\'wind_mph\\': 6.9, \\'wind_kph\\': 11.2, \\'wind_degree\\': 280, \\'wind_dir\\': \\'W\\', \\'pressure_mb\\': 1014.0, \\'pressure_in\\': 29.94, \\'precip_mm\\': 0.0, \\'precip_in\\': 0.0, \\'humidity\\': 63, \\'cloud\\': 0, \\'feelslike_c\\': 21.7, \\'feelslike_f\\': 71.1, \\'windchill_c\\': 31.0, \\'windchill_f\\': 87.8, \\'heatindex_c\\': 29.3, \\'heatindex_f\\': 84.8, \\'dewpoint_c\\': 7.9, \\'dewpoint_f\\': 46.2, \\'vis_km\\': 4.8, \\'vis_miles\\': 2.0, \\'uv\\': 8.0, \\'gust_mph\\': 9.0, \\'gust_kph\\': 14.5}}\"}, {\\'url\\': \\'https://www.accuweather.com/en/us/los-angeles/90012/june-weather/347625\\', \\'content\\': \\'Get the monthly weather forecast for Los Angeles, CA, including daily high/low, historical averages, to help you plan ahead.\\'}]', name='tavily_search_results_json', tool_call_id='call_er9ldHR4GALe1pXluxXTwDp8')]}\n",
      "{'messages': [AIMessage(content='The current weather in Los Angeles is misty with a temperature of 71.1°F (21.7°C). The wind is blowing from the west at about 6.9 mph. The humidity level is at 63%, and the atmospheric pressure is 1014.0 mb. Visibility is around 2 miles.', response_metadata={'token_usage': {'completion_tokens': 67, 'prompt_tokens': 1445, 'total_tokens': 1512}, 'model_name': 'gpt-4-turbo-2024-04-09', 'system_fingerprint': 'fp_486730399b', 'finish_reason': 'stop', 'logprobs': None}, id='run-f023bce1-e52b-4046-b3d1-1f120bf90682-0', usage_metadata={'input_tokens': 1445, 'output_tokens': 67, 'total_tokens': 1512})]}\n"
     ]
    }
   ],
   "source": [
    "messages = [HumanMessage(content=\"What about in la?\")]\n",
    "thread = {\"configurable\": {\"thread_id\": \"1\"}}\n",
    "for event in abot.graph.stream({\"messages\": messages}, thread):\n",
    "    for v in event.values():\n",
    "        print(v)"
   ]
  },
  {
   "cell_type": "code",
   "execution_count": 25,
   "id": "055b7663-94eb-41cc-8f2b-0bf7b6ccf438",
   "metadata": {},
   "outputs": [
    {
     "name": "stdout",
     "output_type": "stream",
     "text": [
      "{'messages': [AIMessage(content='San Francisco is currently warmer with a temperature of 72°F compared to Los Angeles, which has a temperature of 71.1°F.', response_metadata={'token_usage': {'completion_tokens': 29, 'prompt_tokens': 1524, 'total_tokens': 1553}, 'model_name': 'gpt-4-turbo-2024-04-09', 'system_fingerprint': 'fp_486730399b', 'finish_reason': 'stop', 'logprobs': None}, id='run-b783f5e1-ed75-4618-b1ed-8309ca13beae-0', usage_metadata={'input_tokens': 1524, 'output_tokens': 29, 'total_tokens': 1553})]}\n"
     ]
    }
   ],
   "source": [
    "messages = [HumanMessage(content=\"Which one is warmer?\")]\n",
    "thread = {\"configurable\": {\"thread_id\": \"1\"}}\n",
    "for event in abot.graph.stream({\"messages\": messages}, thread):\n",
    "    for v in event.values():\n",
    "        print(v)"
   ]
  },
  {
   "cell_type": "code",
   "execution_count": 26,
   "id": "07b60209-94bf-4466-b6fc-96581570e001",
   "metadata": {},
   "outputs": [
    {
     "name": "stdout",
     "output_type": "stream",
     "text": [
      "{'messages': [AIMessage(content='Could you please specify what items or places you are comparing in terms of warmth?', response_metadata={'token_usage': {'completion_tokens': 17, 'prompt_tokens': 151, 'total_tokens': 168}, 'model_name': 'gpt-4-turbo-2024-04-09', 'system_fingerprint': 'fp_486730399b', 'finish_reason': 'stop', 'logprobs': None}, id='run-8d8ea30b-708f-4b64-88fd-2382142347d2-0', usage_metadata={'input_tokens': 151, 'output_tokens': 17, 'total_tokens': 168})]}\n"
     ]
    }
   ],
   "source": [
    "messages = [HumanMessage(content=\"Which one is warmer?\")]\n",
    "thread = {\"configurable\": {\"thread_id\": \"2\"}}\n",
    "for event in abot.graph.stream({\"messages\": messages}, thread):\n",
    "    for v in event.values():\n",
    "        print(v)"
   ]
  },
  {
   "cell_type": "code",
   "execution_count": 27,
   "id": "684ee9f2-dd9c-465d-87c5-2d2928dd1697",
   "metadata": {},
   "outputs": [
    {
     "ename": "ModuleNotFoundError",
     "evalue": "No module named 'aiosqlite'",
     "output_type": "error",
     "traceback": [
      "\u001b[1;31m---------------------------------------------------------------------------\u001b[0m",
      "\u001b[1;31mModuleNotFoundError\u001b[0m                       Traceback (most recent call last)",
      "Cell \u001b[1;32mIn[27], line 1\u001b[0m\n\u001b[1;32m----> 1\u001b[0m \u001b[38;5;28;01mfrom\u001b[39;00m \u001b[38;5;21;01mlanggraph\u001b[39;00m\u001b[38;5;21;01m.\u001b[39;00m\u001b[38;5;21;01mcheckpoint\u001b[39;00m\u001b[38;5;21;01m.\u001b[39;00m\u001b[38;5;21;01maiosqlite\u001b[39;00m \u001b[38;5;28;01mimport\u001b[39;00m AsyncSqliteSaver\n\u001b[0;32m      3\u001b[0m memory \u001b[38;5;241m=\u001b[39m AsyncSqliteSaver\u001b[38;5;241m.\u001b[39mfrom_conn_string(\u001b[38;5;124m\"\u001b[39m\u001b[38;5;124m:memory:\u001b[39m\u001b[38;5;124m\"\u001b[39m)\n\u001b[0;32m      4\u001b[0m abot \u001b[38;5;241m=\u001b[39m Agent(model, [tool], system\u001b[38;5;241m=\u001b[39mprompt, checkpointer\u001b[38;5;241m=\u001b[39mmemory)\n",
      "File \u001b[1;32m~\\projects\\agent-lang-graph\\env\\Lib\\site-packages\\langgraph\\checkpoint\\aiosqlite.py:7\u001b[0m\n\u001b[0;32m      4\u001b[0m \u001b[38;5;28;01mfrom\u001b[39;00m \u001b[38;5;21;01mtypes\u001b[39;00m \u001b[38;5;28;01mimport\u001b[39;00m TracebackType\n\u001b[0;32m      5\u001b[0m \u001b[38;5;28;01mfrom\u001b[39;00m \u001b[38;5;21;01mtyping\u001b[39;00m \u001b[38;5;28;01mimport\u001b[39;00m Any, AsyncIterator, Dict, Iterator, Optional, TypeVar\n\u001b[1;32m----> 7\u001b[0m \u001b[38;5;28;01mimport\u001b[39;00m \u001b[38;5;21;01maiosqlite\u001b[39;00m\n\u001b[0;32m      8\u001b[0m \u001b[38;5;28;01mfrom\u001b[39;00m \u001b[38;5;21;01mlangchain_core\u001b[39;00m\u001b[38;5;21;01m.\u001b[39;00m\u001b[38;5;21;01mrunnables\u001b[39;00m \u001b[38;5;28;01mimport\u001b[39;00m RunnableConfig\n\u001b[0;32m      9\u001b[0m \u001b[38;5;28;01mfrom\u001b[39;00m \u001b[38;5;21;01mtyping_extensions\u001b[39;00m \u001b[38;5;28;01mimport\u001b[39;00m Self\n",
      "\u001b[1;31mModuleNotFoundError\u001b[0m: No module named 'aiosqlite'"
     ]
    }
   ],
   "source": [
    "from langgraph.checkpoint.aiosqlite import AsyncSqliteSaver\n",
    "\n",
    "memory = AsyncSqliteSaver.from_conn_string(\":memory:\")\n",
    "abot = Agent(model, [tool], system=prompt, checkpointer=memory)"
   ]
  },
  {
   "cell_type": "code",
   "execution_count": null,
   "id": "c260b7b8-e6b2-4b4f-8bbb-f98655e9684c",
   "metadata": {},
   "outputs": [],
   "source": []
  }
 ],
 "metadata": {
  "kernelspec": {
   "display_name": "Python 3 (ipykernel)",
   "language": "python",
   "name": "python3"
  },
  "language_info": {
   "codemirror_mode": {
    "name": "ipython",
    "version": 3
   },
   "file_extension": ".py",
   "mimetype": "text/x-python",
   "name": "python",
   "nbconvert_exporter": "python",
   "pygments_lexer": "ipython3",
   "version": "3.12.4"
  }
 },
 "nbformat": 4,
 "nbformat_minor": 5
}
